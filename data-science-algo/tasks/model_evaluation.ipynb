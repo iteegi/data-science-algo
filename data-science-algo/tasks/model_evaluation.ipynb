{
 "cells": [
  {
   "cell_type": "markdown",
   "metadata": {},
   "source": [
    "# Оценка модели\n",
    "Строим модель энергопотребления здания по среднему значению. Оцениваем эффективность модели через метрику\n",
    "$$\\LARGE RMSLE = \\sqrt{\\frac{\\sum_{i=1}^{n}(log(p_i+1)-log(a_i+1))^2}{n}},$$\n",
    "где:\n",
    "- $n - число\\; наблюдений;$\n",
    "- $log\\;- натуральный\\; логорифм;$\n",
    "- $p_i\\;- вычисленное\\; значение\\; метрики;$\n",
    "- $a_i\\;- заданное\\; значение\\; метрики.$"
   ]
  },
  {
   "cell_type": "code",
   "execution_count": 1,
   "metadata": {},
   "outputs": [],
   "source": [
    "import pandas as pd\n",
    "from sklearn.model_selection import train_test_split"
   ]
  },
  {
   "cell_type": "markdown",
   "metadata": {},
   "source": [
    "## Загрузка данных. Выкунуть пустые дни по \"meter_reading\" и выделить час в отдельную колонку.\n",
    "**meter_reading** - потребление энергии в кВтч (или эквивалент)"
   ]
  },
  {
   "cell_type": "code",
   "execution_count": 2,
   "metadata": {},
   "outputs": [
    {
     "name": "stdout",
     "output_type": "stream",
     "text": [
      "      building_id  meter           timestamp  meter_reading  hour\n",
      "704             0      0 2016-01-30 08:00:00        43.6839     8\n",
      "725             0      0 2016-01-31 05:00:00        37.5408     5\n",
      "737             0      0 2016-01-31 17:00:00        52.5571    17\n",
      "2366            0      0 2016-04-08 14:00:00        59.3827    14\n",
      "2923            0      0 2016-05-01 19:00:00       448.0000    19\n"
     ]
    }
   ],
   "source": [
    "energy = pd.read_csv(\"../data/train.csv\")\n",
    "energy = energy[energy[\"meter_reading\"]>0]\n",
    "energy[\"timestamp\"] = pd.to_datetime(energy[\"timestamp\"])\n",
    "energy[\"hour\"] = energy[\"timestamp\"].dt.hour\n",
    "print(energy.head())"
   ]
  },
  {
   "cell_type": "markdown",
   "metadata": {},
   "source": [
    "# Разделить данные на обучение и проверку\n",
    "**20%** - на проверку\n",
    "**80%** - на обучение"
   ]
  },
  {
   "cell_type": "code",
   "execution_count": 3,
   "metadata": {},
   "outputs": [
    {
     "name": "stdout",
     "output_type": "stream",
     "text": [
      "building_id      4328\n",
      "meter            4328\n",
      "timestamp        4328\n",
      "meter_reading    4328\n",
      "hour             4328\n",
      "dtype: int64\n"
     ]
    }
   ],
   "source": [
    "energy_train, energy_test = train_test_split(energy, test_size=0.2)\n",
    "print(energy_train.count())"
   ]
  },
  {
   "cell_type": "markdown",
   "metadata": {},
   "source": [
    "## Среднее и медианное значение потребления энергии по часам"
   ]
  },
  {
   "cell_type": "code",
   "execution_count": 4,
   "metadata": {},
   "outputs": [
    {
     "name": "stdout",
     "output_type": "stream",
     "text": [
      "         Среднее   Медиана\n",
      "hour                      \n",
      "0     236.250213  239.2375\n",
      "1     239.197365  240.9440\n",
      "2     240.489979  242.3090\n",
      "3     239.862129  244.3570\n",
      "4     239.426143  245.7220\n",
      "5     238.587809  245.0390\n",
      "6     236.931783  243.3325\n",
      "7     242.911185  246.4040\n",
      "8     244.192190  239.5790\n",
      "9     234.251060  234.4595\n",
      "10    239.281397  239.5790\n",
      "11    235.710792  241.6260\n",
      "12    235.005884  242.3090\n",
      "13    235.302622  243.6740\n",
      "14    238.500560  242.3090\n",
      "15    238.704127  245.3805\n",
      "16    238.124020  242.9910\n",
      "17    236.778358  242.3090\n",
      "18    237.984778  239.5790\n",
      "19    235.786653  236.8480\n",
      "20    236.315886  237.5310\n",
      "21    238.268022  238.8960\n",
      "22    238.213548  236.8480\n",
      "23    241.128928  239.5790\n"
     ]
    }
   ],
   "source": [
    "energy_train_hours = energy_train.groupby(\"hour\")\n",
    "energy_meter_reading = energy_train_hours[\"meter_reading\"]\n",
    "energy_train_avg = pd.DataFrame(\n",
    "    {\n",
    "        \"Среднее\": energy_meter_reading.mean(),\n",
    "        \"Медиана\": energy_meter_reading.median(),\n",
    "    }\n",
    ")\n",
    "print(energy_train_avg)"
   ]
  }
 ],
 "metadata": {
  "kernelspec": {
   "display_name": "Python 3 (ipykernel)",
   "language": "python",
   "name": "python3"
  },
  "language_info": {
   "codemirror_mode": {
    "name": "ipython",
    "version": 3
   },
   "file_extension": ".py",
   "mimetype": "text/x-python",
   "name": "python",
   "nbconvert_exporter": "python",
   "pygments_lexer": "ipython3",
   "version": "3.8.10"
  },
  "vscode": {
   "interpreter": {
    "hash": "01c14519b4974e9683bf796b0f04b445c3210d47f2a006233f6cff14adf5564b"
   }
  }
 },
 "nbformat": 4,
 "nbformat_minor": 2
}
