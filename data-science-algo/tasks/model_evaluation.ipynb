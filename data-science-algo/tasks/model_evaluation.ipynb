{
 "cells": [
  {
   "cell_type": "markdown",
   "metadata": {},
   "source": [
    "# Оценка модели\n",
    "Строим модель энергопотребления здания по среднему значению. Оцениваем эффективность модели через метрику\n",
    "$$\\LARGE RMSLE = \\sqrt{\\frac{\\sum_{i=1}^{n}(log(p_i+1)-log(a_i+1))^2}{n}},$$\n",
    "где:\n",
    "- $n - число\\; наблюдений;$\n",
    "- $log\\;- натуральный\\; логорифм;$\n",
    "- $p_i\\;- вычисленное\\; значение\\; метрики;$\n",
    "- $a_i\\;- заданное\\; значение\\; метрики.$"
   ]
  }
 ],
 "metadata": {
  "kernelspec": {
   "display_name": "Python 3 (ipykernel)",
   "language": "python",
   "name": "python3"
  },
  "language_info": {
   "codemirror_mode": {
    "name": "ipython",
    "version": 3
   },
   "file_extension": ".py",
   "mimetype": "text/x-python",
   "name": "python",
   "nbconvert_exporter": "python",
   "pygments_lexer": "ipython3",
   "version": "3.8.10"
  },
  "vscode": {
   "interpreter": {
    "hash": "01c14519b4974e9683bf796b0f04b445c3210d47f2a006233f6cff14adf5564b"
   }
  }
 },
 "nbformat": 4,
 "nbformat_minor": 2
}
