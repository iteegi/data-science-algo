{
 "cells": [
  {
   "cell_type": "markdown",
   "metadata": {},
   "source": [
    "# Решающие деревья"
   ]
  },
  {
   "cell_type": "markdown",
   "metadata": {},
   "source": [
    "1. Построить несколько моделей дерева решений.\n",
    "2. Найти оптимальную через перекрестную валидацию.\n",
    "3. Сделать предсказание и проверить качество через каппа-метрику."
   ]
  },
  {
   "cell_type": "markdown",
   "metadata": {},
   "source": [
    "## Загрузка библиотек"
   ]
  },
  {
   "cell_type": "code",
   "execution_count": 1,
   "metadata": {},
   "outputs": [],
   "source": [
    "import pandas as pd\n",
    "import numpy as np\n",
    "\n",
    "from sklearn.model_selection import train_test_split, GridSearchCV, cross_val_score\n",
    "from sklearn.metrics import cohen_kappa_score, confusion_matrix, make_scorer\n",
    "from sklearn.tree import DecisionTreeClassifier, export_graphviz\n",
    "from sklearn import preprocessing"
   ]
  },
  {
   "cell_type": "markdown",
   "metadata": {},
   "source": [
    "## Загрузка данных"
   ]
  },
  {
   "cell_type": "code",
   "execution_count": 2,
   "metadata": {},
   "outputs": [
    {
     "name": "stdout",
     "output_type": "stream",
     "text": [
      "<class 'pandas.core.frame.DataFrame'>\n",
      "RangeIndex: 59381 entries, 0 to 59380\n",
      "Columns: 128 entries, Id to Response\n",
      "dtypes: float64(18), int64(109), object(1)\n",
      "memory usage: 58.0+ MB\n",
      "None\n"
     ]
    }
   ],
   "source": [
    "data = pd.read_csv(\"../data/prudential/train.csv.gz\")\n",
    "print(data.info())"
   ]
  },
  {
   "cell_type": "markdown",
   "metadata": {},
   "source": [
    "## Предобработка данных"
   ]
  },
  {
   "cell_type": "code",
   "execution_count": 3,
   "metadata": {},
   "outputs": [],
   "source": [
    "data[\"Product_Info_2_1\"] = data[\"Product_Info_2\"].str.slice(0, 1)\n",
    "data[\"Product_Info_2_2\"] = pd.to_numeric(data[\"Product_Info_2\"].str.slice(1, 2))\n",
    "data.drop(labels=[\"Product_Info_2\"], axis=1, inplace=True)"
   ]
  },
  {
   "cell_type": "code",
   "execution_count": 4,
   "metadata": {},
   "outputs": [],
   "source": [
    "list_df = [data]\n",
    "for un in data[\"Product_Info_2_1\"].unique():\n",
    "    s = pd.DataFrame()\n",
    "    s[\"Product_Info_2_1_\" + un] = data[\"Product_Info_2_1\"].isin([un]).astype(\"int8\")\n",
    "    list_df.append(s)\n",
    "data = pd.concat(list_df, axis=1)\n",
    "data.drop(labels=[\"Product_Info_2_1\"], axis=1, inplace=True)"
   ]
  },
  {
   "cell_type": "code",
   "execution_count": 5,
   "metadata": {},
   "outputs": [
    {
     "name": "stdout",
     "output_type": "stream",
     "text": [
      "   Id  Product_Info_1  Product_Info_3  Product_Info_4  Product_Info_5  \\\n",
      "0   2               1              10        0.076923               2   \n",
      "1   5               1              26        0.076923               2   \n",
      "2   6               1              26        0.076923               2   \n",
      "3   7               1              10        0.487179               2   \n",
      "4   8               1              26        0.230769               2   \n",
      "\n",
      "   Product_Info_6  Product_Info_7   Ins_Age        Ht        Wt  ...  \\\n",
      "0               1               1  0.641791  0.581818  0.148536  ...   \n",
      "1               3               1  0.059701  0.600000  0.131799  ...   \n",
      "2               3               1  0.029851  0.745455  0.288703  ...   \n",
      "3               3               1  0.164179  0.672727  0.205021  ...   \n",
      "4               3               1  0.417910  0.654545  0.234310  ...   \n",
      "\n",
      "   Medical_Keyword_46  Medical_Keyword_47  Medical_Keyword_48  Response  \\\n",
      "0                   0                   0                   0         8   \n",
      "1                   0                   0                   0         4   \n",
      "2                   0                   0                   0         8   \n",
      "3                   0                   0                   0         8   \n",
      "4                   0                   0                   0         8   \n",
      "\n",
      "   Product_Info_2_2  Product_Info_2_1_D  Product_Info_2_1_A  \\\n",
      "0                 3                   1                   0   \n",
      "1                 1                   0                   1   \n",
      "2                 1                   0                   0   \n",
      "3                 4                   1                   0   \n",
      "4                 2                   1                   0   \n",
      "\n",
      "   Product_Info_2_1_E  Product_Info_2_1_C  Product_Info_2_1_B  \n",
      "0                   0                   0                   0  \n",
      "1                   0                   0                   0  \n",
      "2                   1                   0                   0  \n",
      "3                   0                   0                   0  \n",
      "4                   0                   0                   0  \n",
      "\n",
      "[5 rows x 133 columns]\n"
     ]
    }
   ],
   "source": [
    "data.fillna(value=-1, inplace=True)\n",
    "print(data.head())"
   ]
  },
  {
   "cell_type": "markdown",
   "metadata": {},
   "source": [
    "## Набор столбцов для расчета"
   ]
  },
  {
   "cell_type": "code",
   "execution_count": null,
   "metadata": {},
   "outputs": [],
   "source": [
    "columns = [\n",
    "    \"Wt\",\n",
    "    \"Ht\",\n",
    "    \"Ins_Age\",\n",
    "    \"BMI\",\n",
    "]"
   ]
  }
 ],
 "metadata": {
  "kernelspec": {
   "display_name": "Python 3.8.10 ('env_dsalgo')",
   "language": "python",
   "name": "python3"
  },
  "language_info": {
   "codemirror_mode": {
    "name": "ipython",
    "version": 3
   },
   "file_extension": ".py",
   "mimetype": "text/x-python",
   "name": "python",
   "nbconvert_exporter": "python",
   "pygments_lexer": "ipython3",
   "version": "3.8.10"
  },
  "orig_nbformat": 4,
  "vscode": {
   "interpreter": {
    "hash": "01c14519b4974e9683bf796b0f04b445c3210d47f2a006233f6cff14adf5564b"
   }
  }
 },
 "nbformat": 4,
 "nbformat_minor": 2
}
