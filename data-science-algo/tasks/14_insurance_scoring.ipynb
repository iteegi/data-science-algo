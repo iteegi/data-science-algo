{
 "cells": [
  {
   "cell_type": "markdown",
   "metadata": {},
   "source": [
    "# Страховой скоринг"
   ]
  },
  {
   "cell_type": "markdown",
   "metadata": {},
   "source": [
    "Требуется провести классификацию клиентов по уровню благонадежности для страхования жизни. Всего 8 градаций.\n",
    "\n",
    "https://www.kaggle.com/competitions/prudential-life-insurance-assessment/data"
   ]
  },
  {
   "cell_type": "markdown",
   "metadata": {},
   "source": [
    "## Подключение библиотек"
   ]
  },
  {
   "cell_type": "code",
   "execution_count": 2,
   "metadata": {},
   "outputs": [],
   "source": [
    "%matplotlib inline\n",
    "\n",
    "import pandas as pd\n",
    "import numpy as np\n",
    "import seaborn as sns\n",
    "import matplotlib.pyplot as plt\n",
    "\n",
    "from matplotlib.pyplot import rcParams"
   ]
  },
  {
   "cell_type": "code",
   "execution_count": 3,
   "metadata": {},
   "outputs": [],
   "source": [
    "rcParams[\"figure.figsize\"] = 16, 8"
   ]
  },
  {
   "cell_type": "markdown",
   "metadata": {},
   "source": [
    "## Загрузка данных"
   ]
  },
  {
   "cell_type": "code",
   "execution_count": 4,
   "metadata": {},
   "outputs": [
    {
     "name": "stdout",
     "output_type": "stream",
     "text": [
      "<class 'pandas.core.frame.DataFrame'>\n",
      "RangeIndex: 59381 entries, 0 to 59380\n",
      "Columns: 128 entries, Id to Response\n",
      "dtypes: float64(18), int64(109), object(1)\n",
      "memory usage: 58.0+ MB\n",
      "None\n",
      "   Id  Product_Info_1 Product_Info_2  Product_Info_3  Product_Info_4  \\\n",
      "0   2               1             D3              10        0.076923   \n",
      "1   5               1             A1              26        0.076923   \n",
      "2   6               1             E1              26        0.076923   \n",
      "3   7               1             D4              10        0.487179   \n",
      "4   8               1             D2              26        0.230769   \n",
      "\n",
      "   Product_Info_5  Product_Info_6  Product_Info_7   Ins_Age        Ht  ...  \\\n",
      "0               2               1               1  0.641791  0.581818  ...   \n",
      "1               2               3               1  0.059701  0.600000  ...   \n",
      "2               2               3               1  0.029851  0.745455  ...   \n",
      "3               2               3               1  0.164179  0.672727  ...   \n",
      "4               2               3               1  0.417910  0.654545  ...   \n",
      "\n",
      "   Medical_Keyword_40  Medical_Keyword_41  Medical_Keyword_42  \\\n",
      "0                   0                   0                   0   \n",
      "1                   0                   0                   0   \n",
      "2                   0                   0                   0   \n",
      "3                   0                   0                   0   \n",
      "4                   0                   0                   0   \n",
      "\n",
      "   Medical_Keyword_43  Medical_Keyword_44  Medical_Keyword_45  \\\n",
      "0                   0                   0                   0   \n",
      "1                   0                   0                   0   \n",
      "2                   0                   0                   0   \n",
      "3                   0                   0                   0   \n",
      "4                   0                   0                   0   \n",
      "\n",
      "   Medical_Keyword_46  Medical_Keyword_47  Medical_Keyword_48  Response  \n",
      "0                   0                   0                   0         8  \n",
      "1                   0                   0                   0         4  \n",
      "2                   0                   0                   0         8  \n",
      "3                   0                   0                   0         8  \n",
      "4                   0                   0                   0         8  \n",
      "\n",
      "[5 rows x 128 columns]\n"
     ]
    }
   ],
   "source": [
    "train = pd.read_csv(\"../data/prudential/train.csv.gz\")\n",
    "print(train.info())\n",
    "print(train.head())"
   ]
  },
  {
   "cell_type": "markdown",
   "metadata": {},
   "source": [
    "1. **Product_Info** - вид страховки\n",
    "2. **Ins_Age** - возраст\n",
    "3. **Ht** - рост\n",
    "4. **Wt** - вес\n",
    "5. **BMI** - индекс массы тела\n",
    "6. **Employment_Info** - данные о работе\n",
    "7. **InsuredInfo** - данные страховки\n",
    "8. **Insurance_Hisory** - история страхования\n",
    "9. **Family_Hist** - семья\n",
    "10. **Medical_Histore** - медицинские данные\n",
    "11. **Medical_Keyword** - медицинские термины"
   ]
  }
 ],
 "metadata": {
  "kernelspec": {
   "display_name": "Python 3.8.10 ('env_dsalgo')",
   "language": "python",
   "name": "python3"
  },
  "language_info": {
   "codemirror_mode": {
    "name": "ipython",
    "version": 3
   },
   "file_extension": ".py",
   "mimetype": "text/x-python",
   "name": "python",
   "nbconvert_exporter": "python",
   "pygments_lexer": "ipython3",
   "version": "3.8.10"
  },
  "orig_nbformat": 4,
  "vscode": {
   "interpreter": {
    "hash": "01c14519b4974e9683bf796b0f04b445c3210d47f2a006233f6cff14adf5564b"
   }
  }
 },
 "nbformat": 4,
 "nbformat_minor": 2
}
