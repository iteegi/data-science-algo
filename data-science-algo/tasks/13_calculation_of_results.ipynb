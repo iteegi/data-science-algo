{
 "cells": [
  {
   "cell_type": "markdown",
   "metadata": {},
   "source": [
    "# Расчет результатов"
   ]
  },
  {
   "cell_type": "markdown",
   "metadata": {},
   "source": [
    "1. Посчитать модели линейной регрессии для 20 зданий по оптимальному набору параметров: метеорологические данные, дни недели, недели года, месяцы и праздники по всему набору данных.\n",
    "2. Загрузить данные решения, посчитать значение энергопотребления для требуемых дат для тех зданий, которые посчитаны в модели, и выгрузить результат в файл."
   ]
  },
  {
   "cell_type": "markdown",
   "metadata": {},
   "source": [
    "## Подключение библиотек"
   ]
  },
  {
   "cell_type": "code",
   "execution_count": 1,
   "metadata": {},
   "outputs": [],
   "source": [
    "import pandas as pd\n",
    "import numpy as np\n",
    "\n",
    "from pandas.tseries.holiday import USFederalHolidayCalendar as calendar\n",
    "from scipy.interpolate import interp1d\n",
    "from sklearn.linear_model import LinearRegression"
   ]
  },
  {
   "cell_type": "markdown",
   "metadata": {},
   "source": [
    "## Загрузка данных 20 зданий из HDF5"
   ]
  },
  {
   "cell_type": "code",
   "execution_count": 2,
   "metadata": {},
   "outputs": [
    {
     "name": "stdout",
     "output_type": "stream",
     "text": [
      "<class 'pandas.core.frame.DataFrame'>\n",
      "Int64Index: 175680 entries, 0 to 175679\n",
      "Data columns (total 92 columns):\n",
      " #   Column                  Non-Null Count   Dtype         \n",
      "---  ------                  --------------   -----         \n",
      " 0   timestamp               175680 non-null  datetime64[ns]\n",
      " 1   building_id             175680 non-null  int8          \n",
      " 2   meter_reading           175680 non-null  float16       \n",
      " 3   primary_use             175680 non-null  category      \n",
      " 4   air_temperature         175680 non-null  float16       \n",
      " 5   cloud_coverage          175680 non-null  float16       \n",
      " 6   dew_temperature         175680 non-null  float16       \n",
      " 7   precip_depth_1_hr       175680 non-null  float16       \n",
      " 8   sea_level_pressure      175680 non-null  float16       \n",
      " 9   wind_direction          175680 non-null  float16       \n",
      " 10  wind_speed              175680 non-null  float16       \n",
      " 11  air_temperature_diff_1  175680 non-null  float16       \n",
      " 12  air_temperature_diff_2  175680 non-null  float16       \n",
      " 13  hour                    175680 non-null  int8          \n",
      " 14  weekday                 175680 non-null  int8          \n",
      " 15  week                    175680 non-null  int8          \n",
      " 16  month                   175680 non-null  int8          \n",
      " 17  date                    175680 non-null  category      \n",
      " 18  is_holiday              175680 non-null  int8          \n",
      " 19  is_wday 0               175680 non-null  int8          \n",
      " 20  is_wday 1               175680 non-null  int8          \n",
      " 21  is_wday 2               175680 non-null  int8          \n",
      " 22  is_wday 3               175680 non-null  int8          \n",
      " 23  is_wday 4               175680 non-null  int8          \n",
      " 24  is_wday 5               175680 non-null  int8          \n",
      " 25  is_wday 6               175680 non-null  int8          \n",
      " 26  is_w 1                  175680 non-null  int8          \n",
      " 27  is_w 2                  175680 non-null  int8          \n",
      " 28  is_w 3                  175680 non-null  int8          \n",
      " 29  is_w 4                  175680 non-null  int8          \n",
      " 30  is_w 5                  175680 non-null  int8          \n",
      " 31  is_w 6                  175680 non-null  int8          \n",
      " 32  is_w 7                  175680 non-null  int8          \n",
      " 33  is_w 8                  175680 non-null  int8          \n",
      " 34  is_w 9                  175680 non-null  int8          \n",
      " 35  is_w 10                 175680 non-null  int8          \n",
      " 36  is_w 11                 175680 non-null  int8          \n",
      " 37  is_w 12                 175680 non-null  int8          \n",
      " 38  is_w 13                 175680 non-null  int8          \n",
      " 39  is_w 14                 175680 non-null  int8          \n",
      " 40  is_w 15                 175680 non-null  int8          \n",
      " 41  is_w 16                 175680 non-null  int8          \n",
      " 42  is_w 17                 175680 non-null  int8          \n",
      " 43  is_w 18                 175680 non-null  int8          \n",
      " 44  is_w 19                 175680 non-null  int8          \n",
      " 45  is_w 20                 175680 non-null  int8          \n",
      " 46  is_w 21                 175680 non-null  int8          \n",
      " 47  is_w 22                 175680 non-null  int8          \n",
      " 48  is_w 23                 175680 non-null  int8          \n",
      " 49  is_w 24                 175680 non-null  int8          \n",
      " 50  is_w 25                 175680 non-null  int8          \n",
      " 51  is_w 26                 175680 non-null  int8          \n",
      " 52  is_w 27                 175680 non-null  int8          \n",
      " 53  is_w 28                 175680 non-null  int8          \n",
      " 54  is_w 29                 175680 non-null  int8          \n",
      " 55  is_w 30                 175680 non-null  int8          \n",
      " 56  is_w 31                 175680 non-null  int8          \n",
      " 57  is_w 32                 175680 non-null  int8          \n",
      " 58  is_w 33                 175680 non-null  int8          \n",
      " 59  is_w 34                 175680 non-null  int8          \n",
      " 60  is_w 35                 175680 non-null  int8          \n",
      " 61  is_w 36                 175680 non-null  int8          \n",
      " 62  is_w 37                 175680 non-null  int8          \n",
      " 63  is_w 38                 175680 non-null  int8          \n",
      " 64  is_w 39                 175680 non-null  int8          \n",
      " 65  is_w 40                 175680 non-null  int8          \n",
      " 66  is_w 41                 175680 non-null  int8          \n",
      " 67  is_w 42                 175680 non-null  int8          \n",
      " 68  is_w 43                 175680 non-null  int8          \n",
      " 69  is_w 44                 175680 non-null  int8          \n",
      " 70  is_w 45                 175680 non-null  int8          \n",
      " 71  is_w 46                 175680 non-null  int8          \n",
      " 72  is_w 47                 175680 non-null  int8          \n",
      " 73  is_w 48                 175680 non-null  int8          \n",
      " 74  is_w 49                 175680 non-null  int8          \n",
      " 75  is_w 50                 175680 non-null  int8          \n",
      " 76  is_w 51                 175680 non-null  int8          \n",
      " 77  is_w 52                 175680 non-null  int8          \n",
      " 78  is_w 53                 175680 non-null  int8          \n",
      " 79  is_m 1                  175680 non-null  int8          \n",
      " 80  is_m 2                  175680 non-null  int8          \n",
      " 81  is_m 3                  175680 non-null  int8          \n",
      " 82  is_m 4                  175680 non-null  int8          \n",
      " 83  is_m 5                  175680 non-null  int8          \n",
      " 84  is_m 6                  175680 non-null  int8          \n",
      " 85  is_m 7                  175680 non-null  int8          \n",
      " 86  is_m 8                  175680 non-null  int8          \n",
      " 87  is_m 9                  175680 non-null  int8          \n",
      " 88  is_m 10                 175680 non-null  int8          \n",
      " 89  is_m 11                 175680 non-null  int8          \n",
      " 90  is_m 12                 175680 non-null  int8          \n",
      " 91  meter_reading_log       175680 non-null  float16       \n",
      "dtypes: category(2), datetime64[ns](1), float16(11), int8(78)\n",
      "memory usage: 19.9 MB\n",
      "None\n"
     ]
    }
   ],
   "source": [
    "energy = pd.read_hdf(\"../data/out/energy.0-20.h5\", \"energy\")\n",
    "print(energy.info())"
   ]
  }
 ],
 "metadata": {
  "kernelspec": {
   "display_name": "Python 3.8.10 ('env_dsalgo')",
   "language": "python",
   "name": "python3"
  },
  "language_info": {
   "codemirror_mode": {
    "name": "ipython",
    "version": 3
   },
   "file_extension": ".py",
   "mimetype": "text/x-python",
   "name": "python",
   "nbconvert_exporter": "python",
   "pygments_lexer": "ipython3",
   "version": "3.8.10"
  },
  "orig_nbformat": 4,
  "vscode": {
   "interpreter": {
    "hash": "01c14519b4974e9683bf796b0f04b445c3210d47f2a006233f6cff14adf5564b"
   }
  }
 },
 "nbformat": 4,
 "nbformat_minor": 2
}
