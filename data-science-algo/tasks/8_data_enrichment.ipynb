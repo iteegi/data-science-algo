{
 "cells": [
  {
   "cell_type": "markdown",
   "metadata": {},
   "source": [
    "# Обогащение данных"
   ]
  },
  {
   "cell_type": "markdown",
   "metadata": {},
   "source": [
    "1. Заполнить отсутствующие значения по погоде интерполяционными данными.\n",
    "2. Для точки росы вычесть температуру воздуха.\n",
    "3. Напрвыление ветра разложить на синус и косинус.\n",
    "4. Для тем. воздуха вычеслить 1-ю и 2-ю производные.\n",
    "5. Вывести параметры по праздничным дням, дням недели, месяцам и неделям года.\n",
    "6. Посчитать модель линейной регрессии по первым 20 зданиям и найти точность."
   ]
  },
  {
   "cell_type": "code",
   "execution_count": 29,
   "metadata": {},
   "outputs": [],
   "source": [
    "import pandas as pd\n",
    "import numpy as np\n",
    "\n",
    "from pandas.tseries.holiday import USFederalHolidayCalendar as calendar\n",
    "from scipy.interpolate import interp1d\n",
    "from sklearn.model_selection import train_test_split\n",
    "from sklearn.linear_model import LinearRegression\n",
    "\n",
    "from core.reduce_mem_usage import reduce_mem_usage"
   ]
  },
  {
   "cell_type": "markdown",
   "metadata": {},
   "source": [
    "## Загрузка данных"
   ]
  },
  {
   "cell_type": "code",
   "execution_count": 2,
   "metadata": {},
   "outputs": [],
   "source": [
    "buildings = pd.read_csv(\"../data/buildings.csv\")\n",
    "weather = pd.read_csv(\"../data/weather.csv\")\n",
    "energy = pd.read_csv(\"../data/train.0.csv\")"
   ]
  },
  {
   "cell_type": "markdown",
   "metadata": {},
   "source": [
    "## Отобрать 20 зданий и объединить"
   ]
  },
  {
   "cell_type": "code",
   "execution_count": 7,
   "metadata": {},
   "outputs": [
    {
     "name": "stdout",
     "output_type": "stream",
     "text": [
      "<class 'pandas.core.frame.DataFrame'>\n",
      "Int64Index: 175680 entries, 0 to 175679\n",
      "Data columns (total 9 columns):\n",
      " #   Column         Non-Null Count   Dtype  \n",
      "---  ------         --------------   -----  \n",
      " 0   building_id    175680 non-null  int64  \n",
      " 1   meter          175680 non-null  int64  \n",
      " 2   timestamp      175680 non-null  object \n",
      " 3   meter_reading  175680 non-null  float64\n",
      " 4   site_id        175680 non-null  int64  \n",
      " 5   primary_use    175680 non-null  object \n",
      " 6   square_feet    175680 non-null  int64  \n",
      " 7   year_built     175680 non-null  float64\n",
      " 8   floor_count    0 non-null       float64\n",
      "dtypes: float64(3), int64(4), object(2)\n",
      "memory usage: 13.4+ MB\n",
      "None\n"
     ]
    }
   ],
   "source": [
    "energy = energy[energy[\"building_id\"] < 20]\n",
    "energy = pd.merge(\n",
    "    left=energy,\n",
    "    right=buildings,\n",
    "    how=\"left\",\n",
    "    left_on=\"building_id\",\n",
    "    right_on=\"building_id\",\n",
    ")\n",
    "del buildings\n",
    "print(energy.info())"
   ]
  },
  {
   "cell_type": "markdown",
   "metadata": {},
   "source": [
    "## Интерполяция значений для weather"
   ]
  },
  {
   "cell_type": "code",
   "execution_count": 9,
   "metadata": {},
   "outputs": [],
   "source": [
    "weather = weather[weather[\"site_id\"] == 0]\n",
    "weather[\"precip_depth_1_hr\"] = weather[\"precip_depth_1_hr\"].apply(lambda x: x if x > 0 else 0)\n",
    "interpolate_columns = [\n",
    "    \"air_temperature\",\n",
    "    \"dew_temperature\",\n",
    "    \"cloud_coverage\",\n",
    "    \"wind_speed\",\n",
    "    \"wind_direction\",\n",
    "    \"precip_depth_1_hr\",\n",
    "    \"sea_level_pressure\",\n",
    "]\n",
    "\n",
    "for col in interpolate_columns:\n",
    "    weather[col] = weather[col].interpolate(limit_direction=\"both\", kind=\"cubic\")"
   ]
  },
  {
   "cell_type": "markdown",
   "metadata": {},
   "source": [
    "## Обогащение данных: погода"
   ]
  },
  {
   "cell_type": "code",
   "execution_count": 11,
   "metadata": {},
   "outputs": [],
   "source": [
    "weather[\"wind_direction_rad\"] = weather[\"wind_direction\"] * np.pi/180\n",
    "weather[\"wind_direction_sin\"] = np.sin(weather[\"wind_direction_rad\"])\n",
    "weather[\"wind_direction_cos\"] = np.cos(weather[\"wind_direction_rad\"])\n",
    "weather[\"air_temperature_diff_1\"] = weather[\"air_temperature\"].diff()\n",
    "weather.at[0, \"air_temperature_diff_1\"] = weather.at[1, \"air_temperature_diff_1\"]\n",
    "weather[\"air_temperature_diff_2\"] = weather[\"air_temperature_diff_1\"].diff()\n",
    "weather.at[0, \"air_temperature_diff_2\"] = weather.at[1, \"air_temperature_diff_2\"]"
   ]
  },
  {
   "cell_type": "markdown",
   "metadata": {},
   "source": [
    "## Объединить погодные данные"
   ]
  },
  {
   "cell_type": "code",
   "execution_count": 30,
   "metadata": {},
   "outputs": [
    {
     "name": "stdout",
     "output_type": "stream",
     "text": [
      "Потребление памяти меньше на - 15.41 Мб (минус 71.9%)\n",
      "<class 'pandas.core.frame.DataFrame'>\n",
      "RangeIndex: 175680 entries, 0 to 175679\n",
      "Data columns (total 16 columns):\n",
      " #   Column                  Non-Null Count   Dtype         \n",
      "---  ------                  --------------   -----         \n",
      " 0   timestamp               175680 non-null  datetime64[ns]\n",
      " 1   building_id             175680 non-null  int8          \n",
      " 2   meter_reading           175680 non-null  float16       \n",
      " 3   primary_use             175680 non-null  category      \n",
      " 4   air_temperature         175680 non-null  float16       \n",
      " 5   cloud_coverage          175680 non-null  float16       \n",
      " 6   dew_temperature         175680 non-null  float16       \n",
      " 7   precip_depth_1_hr       175680 non-null  float16       \n",
      " 8   sea_level_pressure      175680 non-null  float16       \n",
      " 9   wind_direction          175680 non-null  float16       \n",
      " 10  wind_speed              175680 non-null  float16       \n",
      " 11  wind_direction_rad      175680 non-null  float16       \n",
      " 12  wind_direction_sin      175680 non-null  float16       \n",
      " 13  wind_direction_cos      175680 non-null  float16       \n",
      " 14  air_temperature_diff_1  175680 non-null  float16       \n",
      " 15  air_temperature_diff_2  175680 non-null  float16       \n",
      "dtypes: category(1), datetime64[ns](1), float16(13), int8(1)\n",
      "memory usage: 6.0 MB\n",
      "None\n"
     ]
    }
   ],
   "source": [
    "energy = energy.set_index([\"timestamp\", \"site_id\"])\n",
    "weather = weather.set_index([\"timestamp\", \"site_id\"])\n",
    "energy = pd.merge(\n",
    "    left=energy,\n",
    "    right=weather,\n",
    "    how=\"left\",\n",
    "    left_index=True,\n",
    "    right_index=True,\n",
    ")\n",
    "energy.reset_index(inplace=True)\n",
    "energy = energy.drop(\n",
    "    columns=[\n",
    "        \"meter\",\n",
    "        \"site_id\",\n",
    "        \"year_built\",\n",
    "        \"square_feet\",\n",
    "        \"floor_count\",\n",
    "    ], \n",
    "    axis=1\n",
    ")\n",
    "del weather\n",
    "energy = reduce_mem_usage(energy)\n",
    "print(energy.info())"
   ]
  },
  {
   "cell_type": "markdown",
   "metadata": {},
   "source": [
    "## Обогащение данных: дата"
   ]
  },
  {
   "cell_type": "code",
   "execution_count": 32,
   "metadata": {},
   "outputs": [],
   "source": [
    "energy[\"hour\"] = energy[\"timestamp\"].dt.hour.astype(\"int8\")\n",
    "energy[\"weekday\"] = energy[\"timestamp\"].dt.weekday.astype(\"int8\")\n",
    "energy[\"week\"] = energy[\"timestamp\"].dt.isocalendar().week.astype(\"int8\")\n",
    "energy[\"month\"] = energy[\"timestamp\"].dt.month.astype(\"int8\")\n",
    "energy[\"date\"] = pd.to_datetime(energy[\"timestamp\"].dt.date)\n",
    "\n",
    "dates_range = pd.date_range(start=\"2015-12-31\", end=\"2017-01-01\")\n",
    "us_holidays = calendar().holidays(start=dates_range.min(), end=dates_range.max())\n",
    "energy[\"is_holiday\"] = energy[\"date\"].isin(us_holidays).astype(\"int8\")\n",
    "\n",
    "for weekday in range(0, 7):\n",
    "    energy[f\"is_wday {str(weekday)}\"] = energy[\"weekday\"].isin([weekday]).astype(\"int8\")\n",
    "for week in range(1, 54):\n",
    "    energy[f\"is_w {str(week)}\"] = energy[\"week\"].isin([week]).astype(\"int8\")\n",
    "for month in range(1, 13):\n",
    "    energy[f\"is_m {str(month)}\"] = energy[\"month\"].isin([month]).astype(\"int8\")"
   ]
  },
  {
   "cell_type": "markdown",
   "metadata": {},
   "source": [
    "## Логарифмирование данных"
   ]
  },
  {
   "cell_type": "code",
   "execution_count": 42,
   "metadata": {},
   "outputs": [],
   "source": [
    "energy[\"meter_reading_log\"] = np.log(energy[\"meter_reading\"] + 1)"
   ]
  },
  {
   "cell_type": "markdown",
   "metadata": {},
   "source": [
    "## Разделение данных"
   ]
  },
  {
   "cell_type": "code",
   "execution_count": 43,
   "metadata": {},
   "outputs": [
    {
     "name": "stdout",
     "output_type": "stream",
     "text": [
      "<class 'pandas.core.frame.DataFrame'>\n",
      "Int64Index: 86858 entries, 69792 to 106572\n",
      "Data columns (total 95 columns):\n",
      " #   Column                  Non-Null Count  Dtype         \n",
      "---  ------                  --------------  -----         \n",
      " 0   timestamp               86858 non-null  datetime64[ns]\n",
      " 1   building_id             86858 non-null  int8          \n",
      " 2   meter_reading           86858 non-null  float16       \n",
      " 3   primary_use             86858 non-null  category      \n",
      " 4   air_temperature         86858 non-null  float16       \n",
      " 5   cloud_coverage          86858 non-null  float16       \n",
      " 6   dew_temperature         86858 non-null  float16       \n",
      " 7   precip_depth_1_hr       86858 non-null  float16       \n",
      " 8   sea_level_pressure      86858 non-null  float16       \n",
      " 9   wind_direction          86858 non-null  float16       \n",
      " 10  wind_speed              86858 non-null  float16       \n",
      " 11  wind_direction_rad      86858 non-null  float16       \n",
      " 12  wind_direction_sin      86858 non-null  float16       \n",
      " 13  wind_direction_cos      86858 non-null  float16       \n",
      " 14  air_temperature_diff_1  86858 non-null  float16       \n",
      " 15  air_temperature_diff_2  86858 non-null  float16       \n",
      " 16  hour                    86858 non-null  int8          \n",
      " 17  weekday                 86858 non-null  int8          \n",
      " 18  week                    86858 non-null  int8          \n",
      " 19  month                   86858 non-null  int8          \n",
      " 20  date                    86858 non-null  datetime64[ns]\n",
      " 21  is_holiday              86858 non-null  int8          \n",
      " 22  is_wday 0               86858 non-null  int8          \n",
      " 23  is_wday 1               86858 non-null  int8          \n",
      " 24  is_wday 2               86858 non-null  int8          \n",
      " 25  is_wday 3               86858 non-null  int8          \n",
      " 26  is_wday 4               86858 non-null  int8          \n",
      " 27  is_wday 5               86858 non-null  int8          \n",
      " 28  is_wday 6               86858 non-null  int8          \n",
      " 29  is_w 1                  86858 non-null  int8          \n",
      " 30  is_w 2                  86858 non-null  int8          \n",
      " 31  is_w 3                  86858 non-null  int8          \n",
      " 32  is_w 4                  86858 non-null  int8          \n",
      " 33  is_w 5                  86858 non-null  int8          \n",
      " 34  is_w 6                  86858 non-null  int8          \n",
      " 35  is_w 7                  86858 non-null  int8          \n",
      " 36  is_w 8                  86858 non-null  int8          \n",
      " 37  is_w 9                  86858 non-null  int8          \n",
      " 38  is_w 10                 86858 non-null  int8          \n",
      " 39  is_w 11                 86858 non-null  int8          \n",
      " 40  is_w 12                 86858 non-null  int8          \n",
      " 41  is_w 13                 86858 non-null  int8          \n",
      " 42  is_w 14                 86858 non-null  int8          \n",
      " 43  is_w 15                 86858 non-null  int8          \n",
      " 44  is_w 16                 86858 non-null  int8          \n",
      " 45  is_w 17                 86858 non-null  int8          \n",
      " 46  is_w 18                 86858 non-null  int8          \n",
      " 47  is_w 19                 86858 non-null  int8          \n",
      " 48  is_w 20                 86858 non-null  int8          \n",
      " 49  is_w 21                 86858 non-null  int8          \n",
      " 50  is_w 22                 86858 non-null  int8          \n",
      " 51  is_w 23                 86858 non-null  int8          \n",
      " 52  is_w 24                 86858 non-null  int8          \n",
      " 53  is_w 25                 86858 non-null  int8          \n",
      " 54  is_w 26                 86858 non-null  int8          \n",
      " 55  is_w 27                 86858 non-null  int8          \n",
      " 56  is_w 28                 86858 non-null  int8          \n",
      " 57  is_w 29                 86858 non-null  int8          \n",
      " 58  is_w 30                 86858 non-null  int8          \n",
      " 59  is_w 31                 86858 non-null  int8          \n",
      " 60  is_w 32                 86858 non-null  int8          \n",
      " 61  is_w 33                 86858 non-null  int8          \n",
      " 62  is_w 34                 86858 non-null  int8          \n",
      " 63  is_w 35                 86858 non-null  int8          \n",
      " 64  is_w 36                 86858 non-null  int8          \n",
      " 65  is_w 37                 86858 non-null  int8          \n",
      " 66  is_w 38                 86858 non-null  int8          \n",
      " 67  is_w 39                 86858 non-null  int8          \n",
      " 68  is_w 40                 86858 non-null  int8          \n",
      " 69  is_w 41                 86858 non-null  int8          \n",
      " 70  is_w 42                 86858 non-null  int8          \n",
      " 71  is_w 43                 86858 non-null  int8          \n",
      " 72  is_w 44                 86858 non-null  int8          \n",
      " 73  is_w 45                 86858 non-null  int8          \n",
      " 74  is_w 46                 86858 non-null  int8          \n",
      " 75  is_w 47                 86858 non-null  int8          \n",
      " 76  is_w 48                 86858 non-null  int8          \n",
      " 77  is_w 49                 86858 non-null  int8          \n",
      " 78  is_w 50                 86858 non-null  int8          \n",
      " 79  is_w 51                 86858 non-null  int8          \n",
      " 80  is_w 52                 86858 non-null  int8          \n",
      " 81  is_w 53                 86858 non-null  int8          \n",
      " 82  is_m 1                  86858 non-null  int8          \n",
      " 83  is_m 2                  86858 non-null  int8          \n",
      " 84  is_m 3                  86858 non-null  int8          \n",
      " 85  is_m 4                  86858 non-null  int8          \n",
      " 86  is_m 5                  86858 non-null  int8          \n",
      " 87  is_m 6                  86858 non-null  int8          \n",
      " 88  is_m 7                  86858 non-null  int8          \n",
      " 89  is_m 8                  86858 non-null  int8          \n",
      " 90  is_m 9                  86858 non-null  int8          \n",
      " 91  is_m 10                 86858 non-null  int8          \n",
      " 92  is_m 11                 86858 non-null  int8          \n",
      " 93  is_m 12                 86858 non-null  int8          \n",
      " 94  meter_reading_log       86858 non-null  float16       \n",
      "dtypes: category(1), datetime64[ns](2), float16(14), int8(78)\n",
      "memory usage: 10.9 MB\n",
      "None\n"
     ]
    }
   ],
   "source": [
    "energy_train, energy_test = train_test_split(\n",
    "    energy[energy[\"meter_reading\"] > 0],\n",
    "    test_size=0.2,\n",
    ")\n",
    "print(energy_train.info())"
   ]
  }
 ],
 "metadata": {
  "kernelspec": {
   "display_name": "Python 3 (ipykernel)",
   "language": "python",
   "name": "python3"
  },
  "language_info": {
   "codemirror_mode": {
    "name": "ipython",
    "version": 3
   },
   "file_extension": ".py",
   "mimetype": "text/x-python",
   "name": "python",
   "nbconvert_exporter": "python",
   "pygments_lexer": "ipython3",
   "version": "3.8.10"
  },
  "vscode": {
   "interpreter": {
    "hash": "01c14519b4974e9683bf796b0f04b445c3210d47f2a006233f6cff14adf5564b"
   }
  }
 },
 "nbformat": 4,
 "nbformat_minor": 2
}
