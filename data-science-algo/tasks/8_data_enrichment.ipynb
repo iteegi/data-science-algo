{
 "cells": [
  {
   "cell_type": "markdown",
   "metadata": {},
   "source": [
    "# Обогащение данных"
   ]
  },
  {
   "cell_type": "markdown",
   "metadata": {},
   "source": [
    "1. Заполнить отсутствующие значения по погоде интерполяционными данными.\n",
    "2. Для точки росы вычесть температуру воздуха.\n",
    "3. Напрвыление ветра разложить на синус и косинус.\n",
    "4. Для тем. воздуха вычеслить 1-ю и 2-ю производные.\n",
    "5. Вывести параметры по праздничным дням, дням недели, месяцам и неделям года.\n",
    "6. Посчитать модель линейной регрессии по первым 20 зданиям и найти точность."
   ]
  },
  {
   "cell_type": "code",
   "execution_count": 1,
   "metadata": {},
   "outputs": [],
   "source": [
    "import pandas as pd\n",
    "import numpy as np\n",
    "\n",
    "from pandas.tseries.holiday import USFederalHolidayCalendar as calendar\n",
    "from scipy.interpolate import interp1d\n",
    "from sklearn.model_selection import train_test_split\n",
    "from sklearn.linear_model import LinearRegression"
   ]
  },
  {
   "cell_type": "markdown",
   "metadata": {},
   "source": [
    "## Загрузка данных"
   ]
  },
  {
   "cell_type": "code",
   "execution_count": 2,
   "metadata": {},
   "outputs": [],
   "source": [
    "buildings = pd.read_csv(\"../data/buildings.csv\")\n",
    "weather = pd.read_csv(\"../data/weather.csv\")\n",
    "energy = pd.read_csv(\"../data/train.0.csv\")"
   ]
  },
  {
   "cell_type": "markdown",
   "metadata": {},
   "source": [
    "## Отобрать 20 зданий и объединить"
   ]
  },
  {
   "cell_type": "code",
   "execution_count": 7,
   "metadata": {},
   "outputs": [
    {
     "name": "stdout",
     "output_type": "stream",
     "text": [
      "<class 'pandas.core.frame.DataFrame'>\n",
      "Int64Index: 175680 entries, 0 to 175679\n",
      "Data columns (total 9 columns):\n",
      " #   Column         Non-Null Count   Dtype  \n",
      "---  ------         --------------   -----  \n",
      " 0   building_id    175680 non-null  int64  \n",
      " 1   meter          175680 non-null  int64  \n",
      " 2   timestamp      175680 non-null  object \n",
      " 3   meter_reading  175680 non-null  float64\n",
      " 4   site_id        175680 non-null  int64  \n",
      " 5   primary_use    175680 non-null  object \n",
      " 6   square_feet    175680 non-null  int64  \n",
      " 7   year_built     175680 non-null  float64\n",
      " 8   floor_count    0 non-null       float64\n",
      "dtypes: float64(3), int64(4), object(2)\n",
      "memory usage: 13.4+ MB\n",
      "None\n"
     ]
    }
   ],
   "source": [
    "energy = energy[energy[\"building_id\"] < 20]\n",
    "energy = pd.merge(\n",
    "    left=energy,\n",
    "    right=buildings,\n",
    "    how=\"left\",\n",
    "    left_on=\"building_id\",\n",
    "    right_on=\"building_id\",\n",
    ")\n",
    "del buildings\n",
    "print(energy.info())"
   ]
  },
  {
   "cell_type": "markdown",
   "metadata": {},
   "source": [
    "## Интерполяция значений для weather"
   ]
  },
  {
   "cell_type": "code",
   "execution_count": 9,
   "metadata": {},
   "outputs": [],
   "source": [
    "weather = weather[weather[\"site_id\"] == 0]\n",
    "weather[\"precip_depth_1_hr\"] = weather[\"precip_depth_1_hr\"].apply(lambda x: x if x > 0 else 0)\n",
    "interpolate_columns = [\n",
    "    \"air_temperature\",\n",
    "    \"dew_temperature\",\n",
    "    \"cloud_coverage\",\n",
    "    \"wind_speed\",\n",
    "    \"wind_direction\",\n",
    "    \"precip_depth_1_hr\",\n",
    "    \"sea_level_pressure\",\n",
    "]\n",
    "\n",
    "for col in interpolate_columns:\n",
    "    weather[col] = weather[col].interpolate(limit_direction=\"both\", kind=\"cubic\")"
   ]
  }
 ],
 "metadata": {
  "kernelspec": {
   "display_name": "Python 3 (ipykernel)",
   "language": "python",
   "name": "python3"
  },
  "language_info": {
   "codemirror_mode": {
    "name": "ipython",
    "version": 3
   },
   "file_extension": ".py",
   "mimetype": "text/x-python",
   "name": "python",
   "nbconvert_exporter": "python",
   "pygments_lexer": "ipython3",
   "version": "3.8.10"
  },
  "vscode": {
   "interpreter": {
    "hash": "01c14519b4974e9683bf796b0f04b445c3210d47f2a006233f6cff14adf5564b"
   }
  }
 },
 "nbformat": 4,
 "nbformat_minor": 2
}
