{
 "cells": [
  {
   "cell_type": "markdown",
   "metadata": {},
   "source": [
    "# Обогащение данных"
   ]
  },
  {
   "cell_type": "markdown",
   "metadata": {},
   "source": [
    "1. Заполнить отсутствующие значения по погоде интерполяционными данными.\n",
    "2. Для точки росы вычесть температуру воздуха.\n",
    "3. Напрвыление ветра разложить на синус и косинус.\n",
    "4. Для тем. воздуха вычеслить 1-ю и 2-ю производные.\n",
    "5. Вывести параметры по праздничным дням, дням недели, месяцам и неделям года.\n",
    "6. Посчитать модель линейной регрессии по первым 20 зданиям и найти точность."
   ]
  }
 ],
 "metadata": {
  "kernelspec": {
   "display_name": "Python 3.8.10 ('env_dsalgo')",
   "language": "python",
   "name": "python3"
  },
  "language_info": {
   "codemirror_mode": {
    "name": "ipython",
    "version": 3
   },
   "file_extension": ".py",
   "mimetype": "text/x-python",
   "name": "python",
   "nbconvert_exporter": "python",
   "pygments_lexer": "ipython3",
   "version": "3.8.10"
  },
  "vscode": {
   "interpreter": {
    "hash": "01c14519b4974e9683bf796b0f04b445c3210d47f2a006233f6cff14adf5564b"
   }
  }
 },
 "nbformat": 4,
 "nbformat_minor": 2
}
