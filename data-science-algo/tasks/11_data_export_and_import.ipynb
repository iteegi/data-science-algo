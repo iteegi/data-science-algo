{
 "cells": [
  {
   "cell_type": "markdown",
   "metadata": {},
   "source": [
    "# Экспорт и импорт данных"
   ]
  },
  {
   "cell_type": "markdown",
   "metadata": {},
   "source": [
    "1. Подготовить данные для построения модели.\n",
    "2. Сохранить готовые данные в: CSV, HDF5"
   ]
  },
  {
   "cell_type": "code",
   "execution_count": 1,
   "metadata": {},
   "outputs": [],
   "source": [
    "import pandas as pd\n",
    "import numpy as np\n",
    "\n",
    "from pandas.tseries.holiday import USFederalHolidayCalendar as calendar\n",
    "from scipy.interpolate import interp1d\n",
    "from sklearn.model_selection import train_test_split\n",
    "from sklearn.linear_model import LinearRegression\n",
    "\n",
    "from core.reduce_mem_usage import reduce_mem_usage"
   ]
  },
  {
   "cell_type": "markdown",
   "metadata": {},
   "source": [
    "## Загрузка данных"
   ]
  },
  {
   "cell_type": "code",
   "execution_count": 2,
   "metadata": {},
   "outputs": [],
   "source": [
    "buildings = pd.read_csv(\"../data/buildings.csv\")\n",
    "weather = pd.read_csv(\"../data/weather.csv\")\n",
    "energy = pd.read_csv(\"../data/train.0.csv\")"
   ]
  },
  {
   "cell_type": "markdown",
   "metadata": {},
   "source": [
    "## Взять 20 зданий, объединить, оптимизировать"
   ]
  },
  {
   "cell_type": "code",
   "execution_count": 3,
   "metadata": {},
   "outputs": [],
   "source": [
    "weather = weather[weather[\"site_id\"] == 0]\n",
    "energy = energy[energy[\"building_id\"] < 20]\n",
    "energy = pd.merge(\n",
    "    left=energy,\n",
    "    right=buildings,\n",
    "    how=\"left\",\n",
    "    left_on=\"building_id\",\n",
    "    right_on=\"building_id\",\n",
    ")\n",
    "del buildings"
   ]
  },
  {
   "cell_type": "markdown",
   "metadata": {},
   "source": [
    "## Интерполяция значений"
   ]
  },
  {
   "cell_type": "code",
   "execution_count": 4,
   "metadata": {},
   "outputs": [],
   "source": [
    "weather[\"precip_depth_1_hr\"] = weather[\"precip_depth_1_hr\"].apply(lambda x: x if x> 0 else 0)\n",
    "interpolate_columns = [\n",
    "    \"air_temperature\",\n",
    "    \"dew_temperature\",\n",
    "    \"cloud_coverage\",\n",
    "    \"wind_speed\",\n",
    "    \"wind_direction\",\n",
    "    \"precip_depth_1_hr\",\n",
    "    \"sea_level_pressure\",\n",
    "]\n",
    "\n",
    "for col in interpolate_columns:\n",
    "    weather[col] = weather[col].interpolate(limit_direction=\"both\", kind=\"cubic\")"
   ]
  },
  {
   "cell_type": "markdown",
   "metadata": {},
   "source": [
    "## Обогащение данных: погода"
   ]
  },
  {
   "cell_type": "code",
   "execution_count": 5,
   "metadata": {},
   "outputs": [],
   "source": [
    "weather[\"air_temperature_diff_1\"] = weather[\"air_temperature\"].diff()\n",
    "weather.at[0, \"air_temperature_diff_1\"] = weather.at[1, \"air_temperature_diff_1\"]\n",
    "weather[\"air_temperature_diff_2\"] = weather[\"air_temperature_diff_1\"].diff()\n",
    "weather.at[0, \"air_temperature_diff_2\"] = weather.at[1, \"air_temperature_diff_2\"]"
   ]
  }
 ],
 "metadata": {
  "kernelspec": {
   "display_name": "Python 3.8.10 ('env_dsalgo')",
   "language": "python",
   "name": "python3"
  },
  "language_info": {
   "codemirror_mode": {
    "name": "ipython",
    "version": 3
   },
   "file_extension": ".py",
   "mimetype": "text/x-python",
   "name": "python",
   "nbconvert_exporter": "python",
   "pygments_lexer": "ipython3",
   "version": "3.8.10"
  },
  "orig_nbformat": 4,
  "vscode": {
   "interpreter": {
    "hash": "01c14519b4974e9683bf796b0f04b445c3210d47f2a006233f6cff14adf5564b"
   }
  }
 },
 "nbformat": 4,
 "nbformat_minor": 2
}
