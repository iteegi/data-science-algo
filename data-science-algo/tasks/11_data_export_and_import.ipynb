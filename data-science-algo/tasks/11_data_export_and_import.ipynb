{
 "cells": [
  {
   "cell_type": "markdown",
   "metadata": {},
   "source": [
    "# Экспорт и импорт данных"
   ]
  },
  {
   "cell_type": "markdown",
   "metadata": {},
   "source": [
    "1. Подготовить данные для построения модели.\n",
    "2. Сохранить готовые данные в: CSV, HDF5"
   ]
  }
 ],
 "metadata": {
  "kernelspec": {
   "display_name": "Python 3.8.10 ('env_dsalgo')",
   "language": "python",
   "name": "python3"
  },
  "language_info": {
   "name": "python",
   "version": "3.8.10"
  },
  "orig_nbformat": 4,
  "vscode": {
   "interpreter": {
    "hash": "01c14519b4974e9683bf796b0f04b445c3210d47f2a006233f6cff14adf5564b"
   }
  }
 },
 "nbformat": 4,
 "nbformat_minor": 2
}
