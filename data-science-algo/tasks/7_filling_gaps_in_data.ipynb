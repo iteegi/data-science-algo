{
 "cells": [
  {
   "cell_type": "markdown",
   "metadata": {},
   "source": [
    "# Заполнение пропусков в данных\n",
    "1. Заполнить отсутствующие значения по погоде интерполяционными данными.\n",
    "2. Посчитать модель линейной регрессии по первому зданию и найти ее точность."
   ]
  },
  {
   "cell_type": "code",
   "execution_count": 1,
   "metadata": {},
   "outputs": [],
   "source": [
    "import pandas as pd\n",
    "import numpy as np\n",
    "from scipy.interpolate import interp1d\n",
    "from sklearn.model_selection import train_test_splitb\n",
    "from sklearn.linear_model import LinearRegression"
   ]
  },
  {
   "cell_type": "code",
   "execution_count": 19,
   "metadata": {},
   "outputs": [],
   "source": [
    "buildings = pd.read_csv(\"../data/buildings.csv\")\n",
    "weather = pd.read_csv(\"../data/weather.csv\")\n",
    "energy = pd.read_csv(\"../data/train.0.csv\")"
   ]
  },
  {
   "cell_type": "markdown",
   "metadata": {},
   "source": [
    "## Данные по 0-му зданию"
   ]
  },
  {
   "cell_type": "code",
   "execution_count": 20,
   "metadata": {},
   "outputs": [
    {
     "name": "stdout",
     "output_type": "stream",
     "text": [
      "[0]\n",
      "<class 'pandas.core.frame.DataFrame'>\n",
      "Int64Index: 8784 entries, 0 to 12059506\n",
      "Data columns (total 4 columns):\n",
      " #   Column         Non-Null Count  Dtype  \n",
      "---  ------         --------------  -----  \n",
      " 0   building_id    8784 non-null   int64  \n",
      " 1   meter          8784 non-null   int64  \n",
      " 2   timestamp      8784 non-null   object \n",
      " 3   meter_reading  8784 non-null   float64\n",
      "dtypes: float64(1), int64(2), object(1)\n",
      "memory usage: 343.1+ KB\n",
      "None\n"
     ]
    }
   ],
   "source": [
    "energy = energy[energy[\"building_id\"]==0]\n",
    "print(energy[\"building_id\"].unique())\n",
    "print(energy.info())"
   ]
  },
  {
   "cell_type": "markdown",
   "metadata": {},
   "source": [
    "## Объединение данных"
   ]
  },
  {
   "cell_type": "code",
   "execution_count": 21,
   "metadata": {},
   "outputs": [
    {
     "name": "stdout",
     "output_type": "stream",
     "text": [
      "<class 'pandas.core.frame.DataFrame'>\n",
      "RangeIndex: 8784 entries, 0 to 8783\n",
      "Data columns (total 14 columns):\n",
      " #   Column              Non-Null Count  Dtype  \n",
      "---  ------              --------------  -----  \n",
      " 0   timestamp           8784 non-null   object \n",
      " 1   building_id         8784 non-null   int64  \n",
      " 2   meter_reading       8784 non-null   float64\n",
      " 3   primary_use         8784 non-null   object \n",
      " 4   square_feet         8784 non-null   int64  \n",
      " 5   year_built          8784 non-null   float64\n",
      " 6   floor_count         0 non-null      float64\n",
      " 7   air_temperature     8781 non-null   float64\n",
      " 8   cloud_coverage      4954 non-null   float64\n",
      " 9   dew_temperature     8781 non-null   float64\n",
      " 10  precip_depth_1_hr   8783 non-null   float64\n",
      " 11  sea_level_pressure  8699 non-null   float64\n",
      " 12  wind_direction      8534 non-null   float64\n",
      " 13  wind_speed          8784 non-null   float64\n",
      "dtypes: float64(10), int64(2), object(2)\n",
      "memory usage: 960.9+ KB\n",
      "None\n"
     ]
    }
   ],
   "source": [
    "energy = pd.merge(\n",
    "    left=energy,\n",
    "    right=buildings,\n",
    "    how=\"left\",\n",
    "    left_on=\"building_id\",\n",
    "    right_on=\"building_id\",\n",
    ")\n",
    "energy = energy.set_index([\"timestamp\", \"site_id\"])\n",
    "weather = weather.set_index([\"timestamp\", \"site_id\"])\n",
    "energy = pd.merge(\n",
    "    left=energy,\n",
    "    right=weather,\n",
    "    how=\"left\",\n",
    "    left_index=True,\n",
    "    right_index=True,\n",
    ")\n",
    "energy.reset_index(inplace=True)\n",
    "energy = energy.drop(\n",
    "    columns=[\n",
    "        \"meter\",\n",
    "        \"site_id\",\n",
    "    ],\n",
    "    axis=1\n",
    ")\n",
    "\n",
    "del buildings\n",
    "del weather\n",
    "print(energy.info())"
   ]
  }
 ],
 "metadata": {
  "kernelspec": {
   "display_name": "Python 3.8.10 ('env_dsalgo')",
   "language": "python",
   "name": "python3"
  },
  "language_info": {
   "codemirror_mode": {
    "name": "ipython",
    "version": 3
   },
   "file_extension": ".py",
   "mimetype": "text/x-python",
   "name": "python",
   "nbconvert_exporter": "python",
   "pygments_lexer": "ipython3",
   "version": "3.8.10"
  },
  "orig_nbformat": 4,
  "vscode": {
   "interpreter": {
    "hash": "01c14519b4974e9683bf796b0f04b445c3210d47f2a006233f6cff14adf5564b"
   }
  }
 },
 "nbformat": 4,
 "nbformat_minor": 2
}
