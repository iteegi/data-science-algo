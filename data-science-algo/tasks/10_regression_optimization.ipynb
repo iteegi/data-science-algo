{
 "cells": [
  {
   "cell_type": "markdown",
   "metadata": {},
   "source": [
    "# Оптимизация регрессии"
   ]
  },
  {
   "cell_type": "markdown",
   "metadata": {},
   "source": [
    "Несколько моделей линейной регрессии, что бы найти более оптимальную для первых 20 зданий"
   ]
  },
  {
   "cell_type": "code",
   "execution_count": 3,
   "metadata": {},
   "outputs": [],
   "source": [
    "import pandas as pd\n",
    "import numpy as np\n",
    "\n",
    "from pandas.tseries.holiday import USFederalHolidayCalendar as calendar\n",
    "from scipy.interpolate import interp1d\n",
    "from sklearn.model_selection import train_test_split\n",
    "from sklearn.linear_model import LinearRegression, Lasso, Ridge, ElasticNet, BayesianRidge\n",
    "\n",
    "from core.reduce_mem_usage import reduce_mem_usage"
   ]
  },
  {
   "cell_type": "markdown",
   "metadata": {},
   "source": [
    "## Загрузка данных"
   ]
  },
  {
   "cell_type": "code",
   "execution_count": 2,
   "metadata": {},
   "outputs": [],
   "source": [
    "buildings = pd.read_csv(\"../data/buildings.csv\")\n",
    "weather = pd.read_csv(\"../data/weather.csv\")\n",
    "energy = pd.read_csv(\"../data/train.0.csv\")"
   ]
  },
  {
   "cell_type": "markdown",
   "metadata": {},
   "source": [
    "## Взять 20 зданий, объединить, оптимизировать"
   ]
  },
  {
   "cell_type": "code",
   "execution_count": 4,
   "metadata": {},
   "outputs": [
    {
     "name": "stdout",
     "output_type": "stream",
     "text": [
      "Потребление памяти меньше на - 10.39 Мб (минус 70.5%)\n",
      "<class 'pandas.core.frame.DataFrame'>\n",
      "RangeIndex: 175680 entries, 0 to 175679\n",
      "Data columns (total 11 columns):\n",
      " #   Column              Non-Null Count   Dtype         \n",
      "---  ------              --------------   -----         \n",
      " 0   timestamp           175680 non-null  datetime64[ns]\n",
      " 1   building_id         175680 non-null  int8          \n",
      " 2   meter_reading       175680 non-null  float16       \n",
      " 3   primary_use         175680 non-null  category      \n",
      " 4   air_temperature     175620 non-null  float16       \n",
      " 5   cloud_coverage      99080 non-null   float16       \n",
      " 6   dew_temperature     175620 non-null  float16       \n",
      " 7   precip_depth_1_hr   175660 non-null  float16       \n",
      " 8   sea_level_pressure  173980 non-null  float16       \n",
      " 9   wind_direction      170680 non-null  float16       \n",
      " 10  wind_speed          175680 non-null  float16       \n",
      "dtypes: category(1), datetime64[ns](1), float16(8), int8(1)\n",
      "memory usage: 4.4 MB\n",
      "None\n"
     ]
    }
   ],
   "source": [
    "energy = energy[energy[\"building_id\"] < 20]\n",
    "energy = pd.merge(\n",
    "    left=energy,\n",
    "    right=buildings,\n",
    "    how=\"left\",\n",
    "    left_on=\"building_id\",\n",
    "    right_on=\"building_id\",\n",
    ")\n",
    "energy = energy.set_index([\"timestamp\", \"site_id\"])\n",
    "weather =weather.set_index([\"timestamp\", \"site_id\"])\n",
    "energy = pd.merge(\n",
    "    left=energy,\n",
    "    right=weather,\n",
    "    how=\"left\",\n",
    "    left_index=True,\n",
    "    right_index=True,\n",
    ")\n",
    "energy.reset_index(inplace=True)\n",
    "energy = energy.drop(\n",
    "    columns=[\n",
    "        \"meter\",\n",
    "        \"site_id\",\n",
    "        \"year_built\",\n",
    "        \"square_feet\",\n",
    "        \"floor_count\",\n",
    "    ],\n",
    "    axis=1\n",
    ")\n",
    "\n",
    "del buildings\n",
    "del weather\n",
    "\n",
    "energy = reduce_mem_usage(energy)\n",
    "print(energy.info())"
   ]
  },
  {
   "cell_type": "markdown",
   "metadata": {},
   "source": [
    "## Обогащение данных: час, дни недели, праздники"
   ]
  },
  {
   "cell_type": "code",
   "execution_count": 5,
   "metadata": {},
   "outputs": [],
   "source": [
    "energy[\"hour\"] = energy[\"timestamp\"].dt.hour.astype(\"int8\")\n",
    "energy[\"weekday\"] = energy[\"timestamp\"].dt.weekday.astype(\"int8\")\n",
    "\n",
    "for weekday in range(0, 7):\n",
    "    energy[f\"is_wday {str(weekday)}\"] = energy[\"weekday\"].isin([weekday]).astype(\"int8\")\n",
    "\n",
    "energy[\"date\"] = pd.to_datetime(energy[\"timestamp\"].dt.date)\n",
    "dates_range = pd.date_range(start=\"2015-12-31\", end=\"2017-01-01\")\n",
    "us_holidays = calendar().holidays(start=dates_range.min(), end=dates_range.max())\n",
    "energy[\"is_holyday\"] = energy[\"date\"].isin(us_holidays).astype(\"int8\")"
   ]
  },
  {
   "cell_type": "markdown",
   "metadata": {},
   "source": [
    "## Логарифм"
   ]
  },
  {
   "cell_type": "code",
   "execution_count": 6,
   "metadata": {},
   "outputs": [],
   "source": [
    "energy[\"meter_reading_log\"] = np.log(energy[\"meter_reading\"] + 1)"
   ]
  },
  {
   "cell_type": "markdown",
   "metadata": {},
   "source": [
    "## Разделение данных"
   ]
  },
  {
   "cell_type": "code",
   "execution_count": 7,
   "metadata": {},
   "outputs": [
    {
     "name": "stdout",
     "output_type": "stream",
     "text": [
      "<class 'pandas.core.frame.DataFrame'>\n",
      "Int64Index: 86858 entries, 85331 to 175335\n",
      "Data columns (total 23 columns):\n",
      " #   Column              Non-Null Count  Dtype         \n",
      "---  ------              --------------  -----         \n",
      " 0   timestamp           86858 non-null  datetime64[ns]\n",
      " 1   building_id         86858 non-null  int8          \n",
      " 2   meter_reading       86858 non-null  float16       \n",
      " 3   primary_use         86858 non-null  category      \n",
      " 4   air_temperature     86858 non-null  float16       \n",
      " 5   cloud_coverage      50535 non-null  float16       \n",
      " 6   dew_temperature     86858 non-null  float16       \n",
      " 7   precip_depth_1_hr   86858 non-null  float16       \n",
      " 8   sea_level_pressure  86402 non-null  float16       \n",
      " 9   wind_direction      84023 non-null  float16       \n",
      " 10  wind_speed          86858 non-null  float16       \n",
      " 11  hour                86858 non-null  int8          \n",
      " 12  weekday             86858 non-null  int8          \n",
      " 13  is_wday 0           86858 non-null  int8          \n",
      " 14  is_wday 1           86858 non-null  int8          \n",
      " 15  is_wday 2           86858 non-null  int8          \n",
      " 16  is_wday 3           86858 non-null  int8          \n",
      " 17  is_wday 4           86858 non-null  int8          \n",
      " 18  is_wday 5           86858 non-null  int8          \n",
      " 19  is_wday 6           86858 non-null  int8          \n",
      " 20  date                86858 non-null  datetime64[ns]\n",
      " 21  is_holyday          86858 non-null  int8          \n",
      " 22  meter_reading_log   86858 non-null  float16       \n",
      "dtypes: category(1), datetime64[ns](2), float16(9), int8(11)\n",
      "memory usage: 4.5 MB\n",
      "None\n"
     ]
    }
   ],
   "source": [
    "energy_train, energy_test = train_test_split(\n",
    "    energy[energy[\"meter_reading\"] > 0],\n",
    "    test_size=0.2\n",
    ")\n",
    "print(energy_train.info())"
   ]
  },
  {
   "cell_type": "code",
   "execution_count": 8,
   "metadata": {},
   "outputs": [
    {
     "data": {
      "text/html": [
       "<div>\n",
       "<style scoped>\n",
       "    .dataframe tbody tr th:only-of-type {\n",
       "        vertical-align: middle;\n",
       "    }\n",
       "\n",
       "    .dataframe tbody tr th {\n",
       "        vertical-align: top;\n",
       "    }\n",
       "\n",
       "    .dataframe thead th {\n",
       "        text-align: right;\n",
       "    }\n",
       "</style>\n",
       "<table border=\"1\" class=\"dataframe\">\n",
       "  <thead>\n",
       "    <tr style=\"text-align: right;\">\n",
       "      <th></th>\n",
       "      <th>timestamp</th>\n",
       "      <th>building_id</th>\n",
       "      <th>meter_reading</th>\n",
       "      <th>primary_use</th>\n",
       "      <th>air_temperature</th>\n",
       "      <th>cloud_coverage</th>\n",
       "      <th>dew_temperature</th>\n",
       "      <th>precip_depth_1_hr</th>\n",
       "      <th>sea_level_pressure</th>\n",
       "      <th>wind_direction</th>\n",
       "      <th>wind_speed</th>\n",
       "      <th>hour</th>\n",
       "      <th>weekday</th>\n",
       "      <th>is_wday 0</th>\n",
       "      <th>is_wday 1</th>\n",
       "      <th>is_wday 2</th>\n",
       "      <th>is_wday 3</th>\n",
       "      <th>is_wday 4</th>\n",
       "      <th>is_wday 5</th>\n",
       "      <th>is_wday 6</th>\n",
       "      <th>date</th>\n",
       "      <th>is_holyday</th>\n",
       "      <th>meter_reading_log</th>\n",
       "    </tr>\n",
       "  </thead>\n",
       "  <tbody>\n",
       "    <tr>\n",
       "      <th>85331</th>\n",
       "      <td>2016-06-26 18:00:00</td>\n",
       "      <td>11</td>\n",
       "      <td>480.50000</td>\n",
       "      <td>Education</td>\n",
       "      <td>32.81250</td>\n",
       "      <td>4.0</td>\n",
       "      <td>23.296875</td>\n",
       "      <td>0.0</td>\n",
       "      <td>1018.5</td>\n",
       "      <td>110.0</td>\n",
       "      <td>3.099609</td>\n",
       "      <td>18</td>\n",
       "      <td>6</td>\n",
       "      <td>0</td>\n",
       "      <td>0</td>\n",
       "      <td>0</td>\n",
       "      <td>0</td>\n",
       "      <td>0</td>\n",
       "      <td>0</td>\n",
       "      <td>1</td>\n",
       "      <td>2016-06-26</td>\n",
       "      <td>0</td>\n",
       "      <td>6.175781</td>\n",
       "    </tr>\n",
       "    <tr>\n",
       "      <th>153373</th>\n",
       "      <td>2016-11-15 12:00:00</td>\n",
       "      <td>13</td>\n",
       "      <td>467.25000</td>\n",
       "      <td>Education</td>\n",
       "      <td>15.00000</td>\n",
       "      <td>6.0</td>\n",
       "      <td>12.203125</td>\n",
       "      <td>0.0</td>\n",
       "      <td>1016.5</td>\n",
       "      <td>350.0</td>\n",
       "      <td>3.099609</td>\n",
       "      <td>12</td>\n",
       "      <td>1</td>\n",
       "      <td>0</td>\n",
       "      <td>1</td>\n",
       "      <td>0</td>\n",
       "      <td>0</td>\n",
       "      <td>0</td>\n",
       "      <td>0</td>\n",
       "      <td>0</td>\n",
       "      <td>2016-11-15</td>\n",
       "      <td>0</td>\n",
       "      <td>6.148438</td>\n",
       "    </tr>\n",
       "    <tr>\n",
       "      <th>82696</th>\n",
       "      <td>2016-06-21 06:00:00</td>\n",
       "      <td>16</td>\n",
       "      <td>1206.00000</td>\n",
       "      <td>Education</td>\n",
       "      <td>21.09375</td>\n",
       "      <td>0.0</td>\n",
       "      <td>16.093750</td>\n",
       "      <td>0.0</td>\n",
       "      <td>1020.5</td>\n",
       "      <td>30.0</td>\n",
       "      <td>2.599609</td>\n",
       "      <td>6</td>\n",
       "      <td>1</td>\n",
       "      <td>0</td>\n",
       "      <td>1</td>\n",
       "      <td>0</td>\n",
       "      <td>0</td>\n",
       "      <td>0</td>\n",
       "      <td>0</td>\n",
       "      <td>0</td>\n",
       "      <td>2016-06-21</td>\n",
       "      <td>0</td>\n",
       "      <td>7.097656</td>\n",
       "    </tr>\n",
       "    <tr>\n",
       "      <th>75737</th>\n",
       "      <td>2016-06-06 18:00:00</td>\n",
       "      <td>17</td>\n",
       "      <td>46.40625</td>\n",
       "      <td>Office</td>\n",
       "      <td>29.40625</td>\n",
       "      <td>8.0</td>\n",
       "      <td>23.906250</td>\n",
       "      <td>0.0</td>\n",
       "      <td>1010.0</td>\n",
       "      <td>160.0</td>\n",
       "      <td>6.199219</td>\n",
       "      <td>18</td>\n",
       "      <td>0</td>\n",
       "      <td>1</td>\n",
       "      <td>0</td>\n",
       "      <td>0</td>\n",
       "      <td>0</td>\n",
       "      <td>0</td>\n",
       "      <td>0</td>\n",
       "      <td>0</td>\n",
       "      <td>2016-06-06</td>\n",
       "      <td>0</td>\n",
       "      <td>3.859375</td>\n",
       "    </tr>\n",
       "    <tr>\n",
       "      <th>170335</th>\n",
       "      <td>2016-12-20 20:00:00</td>\n",
       "      <td>15</td>\n",
       "      <td>281.25000</td>\n",
       "      <td>Office</td>\n",
       "      <td>20.00000</td>\n",
       "      <td>NaN</td>\n",
       "      <td>16.703125</td>\n",
       "      <td>0.0</td>\n",
       "      <td>1025.0</td>\n",
       "      <td>10.0</td>\n",
       "      <td>5.699219</td>\n",
       "      <td>20</td>\n",
       "      <td>1</td>\n",
       "      <td>0</td>\n",
       "      <td>1</td>\n",
       "      <td>0</td>\n",
       "      <td>0</td>\n",
       "      <td>0</td>\n",
       "      <td>0</td>\n",
       "      <td>0</td>\n",
       "      <td>2016-12-20</td>\n",
       "      <td>0</td>\n",
       "      <td>5.644531</td>\n",
       "    </tr>\n",
       "  </tbody>\n",
       "</table>\n",
       "</div>"
      ],
      "text/plain": [
       "                 timestamp  building_id  ...  is_holyday meter_reading_log\n",
       "85331  2016-06-26 18:00:00           11  ...           0          6.175781\n",
       "153373 2016-11-15 12:00:00           13  ...           0          6.148438\n",
       "82696  2016-06-21 06:00:00           16  ...           0          7.097656\n",
       "75737  2016-06-06 18:00:00           17  ...           0          3.859375\n",
       "170335 2016-12-20 20:00:00           15  ...           0          5.644531\n",
       "\n",
       "[5 rows x 23 columns]"
      ]
     },
     "execution_count": 8,
     "metadata": {},
     "output_type": "execute_result"
    }
   ],
   "source": [
    "energy_train.head()"
   ]
  }
 ],
 "metadata": {
  "kernelspec": {
   "display_name": "Python 3.8.10 ('env_dsalgo')",
   "language": "python",
   "name": "python3"
  },
  "language_info": {
   "codemirror_mode": {
    "name": "ipython",
    "version": 3
   },
   "file_extension": ".py",
   "mimetype": "text/x-python",
   "name": "python",
   "nbconvert_exporter": "python",
   "pygments_lexer": "ipython3",
   "version": "3.8.10"
  },
  "vscode": {
   "interpreter": {
    "hash": "01c14519b4974e9683bf796b0f04b445c3210d47f2a006233f6cff14adf5564b"
   }
  }
 },
 "nbformat": 4,
 "nbformat_minor": 2
}
