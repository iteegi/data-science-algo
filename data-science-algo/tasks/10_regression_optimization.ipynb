{
 "cells": [
  {
   "cell_type": "markdown",
   "metadata": {},
   "source": [
    "# Оптимизация регрессии"
   ]
  },
  {
   "cell_type": "markdown",
   "metadata": {},
   "source": [
    "Несколько моделей линейной регрессии, что бы найти более оптимальную для первых 20 зданий"
   ]
  },
  {
   "cell_type": "code",
   "execution_count": 3,
   "metadata": {},
   "outputs": [],
   "source": [
    "import pandas as pd\n",
    "import numpy as np\n",
    "\n",
    "from pandas.tseries.holiday import USFederalHolidayCalendar as calendar\n",
    "from scipy.interpolate import interp1d\n",
    "from sklearn.model_selection import train_test_split\n",
    "from sklearn.linear_model import LinearRegression, Lasso, Ridge, ElasticNet, BayesianRidge\n",
    "\n",
    "from core.reduce_mem_usage import reduce_mem_usage"
   ]
  },
  {
   "cell_type": "markdown",
   "metadata": {},
   "source": [
    "## Загрузка данных"
   ]
  },
  {
   "cell_type": "code",
   "execution_count": 2,
   "metadata": {},
   "outputs": [],
   "source": [
    "buildings = pd.read_csv(\"../data/buildings.csv\")\n",
    "weather = pd.read_csv(\"../data/weather.csv\")\n",
    "energy = pd.read_csv(\"../data/train.0.csv\")"
   ]
  },
  {
   "cell_type": "markdown",
   "metadata": {},
   "source": [
    "## Взять 20 зданий, объединить, оптимизировать"
   ]
  },
  {
   "cell_type": "code",
   "execution_count": 4,
   "metadata": {},
   "outputs": [
    {
     "name": "stdout",
     "output_type": "stream",
     "text": [
      "Потребление памяти меньше на - 10.39 Мб (минус 70.5%)\n",
      "<class 'pandas.core.frame.DataFrame'>\n",
      "RangeIndex: 175680 entries, 0 to 175679\n",
      "Data columns (total 11 columns):\n",
      " #   Column              Non-Null Count   Dtype         \n",
      "---  ------              --------------   -----         \n",
      " 0   timestamp           175680 non-null  datetime64[ns]\n",
      " 1   building_id         175680 non-null  int8          \n",
      " 2   meter_reading       175680 non-null  float16       \n",
      " 3   primary_use         175680 non-null  category      \n",
      " 4   air_temperature     175620 non-null  float16       \n",
      " 5   cloud_coverage      99080 non-null   float16       \n",
      " 6   dew_temperature     175620 non-null  float16       \n",
      " 7   precip_depth_1_hr   175660 non-null  float16       \n",
      " 8   sea_level_pressure  173980 non-null  float16       \n",
      " 9   wind_direction      170680 non-null  float16       \n",
      " 10  wind_speed          175680 non-null  float16       \n",
      "dtypes: category(1), datetime64[ns](1), float16(8), int8(1)\n",
      "memory usage: 4.4 MB\n",
      "None\n"
     ]
    }
   ],
   "source": [
    "energy = energy[energy[\"building_id\"] < 20]\n",
    "energy = pd.merge(\n",
    "    left=energy,\n",
    "    right=buildings,\n",
    "    how=\"left\",\n",
    "    left_on=\"building_id\",\n",
    "    right_on=\"building_id\",\n",
    ")\n",
    "energy = energy.set_index([\"timestamp\", \"site_id\"])\n",
    "weather =weather.set_index([\"timestamp\", \"site_id\"])\n",
    "energy = pd.merge(\n",
    "    left=energy,\n",
    "    right=weather,\n",
    "    how=\"left\",\n",
    "    left_index=True,\n",
    "    right_index=True,\n",
    ")\n",
    "energy.reset_index(inplace=True)\n",
    "energy = energy.drop(\n",
    "    columns=[\n",
    "        \"meter\",\n",
    "        \"site_id\",\n",
    "        \"year_built\",\n",
    "        \"square_feet\",\n",
    "        \"floor_count\",\n",
    "    ],\n",
    "    axis=1\n",
    ")\n",
    "\n",
    "del buildings\n",
    "del weather\n",
    "\n",
    "energy = reduce_mem_usage(energy)\n",
    "print(energy.info())"
   ]
  }
 ],
 "metadata": {
  "kernelspec": {
   "display_name": "Python 3.8.10 ('env_dsalgo')",
   "language": "python",
   "name": "python3"
  },
  "language_info": {
   "codemirror_mode": {
    "name": "ipython",
    "version": 3
   },
   "file_extension": ".py",
   "mimetype": "text/x-python",
   "name": "python",
   "nbconvert_exporter": "python",
   "pygments_lexer": "ipython3",
   "version": "3.8.10"
  },
  "vscode": {
   "interpreter": {
    "hash": "01c14519b4974e9683bf796b0f04b445c3210d47f2a006233f6cff14adf5564b"
   }
  }
 },
 "nbformat": 4,
 "nbformat_minor": 2
}
