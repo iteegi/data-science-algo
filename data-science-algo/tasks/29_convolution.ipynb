{
 "cells": [
  {
   "cell_type": "markdown",
   "metadata": {},
   "source": [
    "# Свертка и предвыборка"
   ]
  },
  {
   "cell_type": "markdown",
   "metadata": {},
   "source": [
    "1. Построить нейросети с линейными, сверточными слоями и слоями подвыборки.\n",
    "2. Проверить, какая конфигурация работает лучше линейных слоев.\n",
    "3. Оценить качество предсказания по коэффициенту сходства."
   ]
  },
  {
   "cell_type": "markdown",
   "metadata": {},
   "source": [
    "## Подключение библиотек."
   ]
  },
  {
   "cell_type": "code",
   "execution_count": 8,
   "metadata": {},
   "outputs": [],
   "source": [
    "%matplotlib inline\n",
    "\n",
    "import pandas as pd\n",
    "import numpy as np\n",
    "import matplotlib.pyplot as plt\n",
    "import keras\n",
    "import os\n",
    "\n",
    "from sklearn.model_selection import train_test_split\n",
    "from skimage import io\n",
    "from keras.models import Sequential\n",
    "from keras.layers import Dense, Activation, Flatten, Conv2D, MaxPooling2D"
   ]
  },
  {
   "cell_type": "markdown",
   "metadata": {},
   "source": [
    "## Используемые функции"
   ]
  },
  {
   "cell_type": "code",
   "execution_count": 3,
   "metadata": {},
   "outputs": [],
   "source": [
    "image_x = 525\n",
    "image_y = 350\n",
    "\n",
    "def mask_rate(a, x, y):\n",
    "    b = a // 1400\n",
    "    return np.round(x*(b*x // 2100) + y*(a%1400) // 1400).astype(\"uint32\")\n",
    "\n",
    "def calc_mask(px, x=525, y=350):\n",
    "    p = np.array([int(n) for n in px.split(\" \")]).reshape(-1, 2)\n",
    "    mask = np.zeros(y*x, dtype=\"uint8\")\n",
    "    for i, m in p:\n",
    "        mask[mask_rate(i, x, y)-1:mask_rate(m + i, x, y)] = 1\n",
    "    return mask.reshape(y, x).transpose()\n",
    "\n",
    "def calc_dice(x):\n",
    "    dice = 0\n",
    "    px = x[\"EncodedPixels\"]\n",
    "    if px != px and x[\"target\"] == 0:\n",
    "        dice = 1\n",
    "    elif px == px and x[\"target\"] == 1:\n",
    "        mask = calc_mask(px).flatten()\n",
    "        target = np.ones(image_x*image_y, dtype=\"uint8\")\n",
    "        dice = 2*np.sum(target[mask==1]) / (np.sum(target) + np.sum(mask))\n",
    "    \n",
    "    return dice"
   ]
  },
  {
   "cell_type": "markdown",
   "metadata": {},
   "source": [
    "## Загрузка данных"
   ]
  },
  {
   "cell_type": "code",
   "execution_count": 4,
   "metadata": {},
   "outputs": [],
   "source": [
    "data = pd.read_csv(\"../data/clouds/train.csv.gz\")"
   ]
  },
  {
   "cell_type": "code",
   "execution_count": 5,
   "metadata": {},
   "outputs": [
    {
     "name": "stdout",
     "output_type": "stream",
     "text": [
      "                                        EncodedPixels        Image Label\n",
      "0   264918 937 266318 937 267718 937 269118 937 27...  0011165.jpg  Fish\n",
      "4   233813 878 235213 878 236613 878 238010 881 23...  002be4f.jpg  Fish\n",
      "8   3510 690 4910 690 6310 690 7710 690 9110 690 1...  0031ae9.jpg  Fish\n",
      "12                                                NaN  0035239.jpg  Fish\n",
      "16  2367966 18 2367985 2 2367993 8 2368002 62 2369...  003994e.jpg  Fish\n"
     ]
    }
   ],
   "source": [
    "data[\"Image\"] = data[\"Image_Label\"].str.split(\"_\").str[0]\n",
    "data[\"Label\"] = data[\"Image_Label\"].str.split(\"_\").str[1]\n",
    "data.drop(labels=[\"Image_Label\"], axis=1, inplace=True)\n",
    "data_fish = data[data[\"Label\"] == \"Fish\"]\n",
    "print(data_fish.head())"
   ]
  },
  {
   "cell_type": "markdown",
   "metadata": {},
   "source": [
    "## Разделение данных"
   ]
  },
  {
   "cell_type": "code",
   "execution_count": 6,
   "metadata": {},
   "outputs": [
    {
     "name": "stdout",
     "output_type": "stream",
     "text": [
      "      EncodedPixels        Image Label\n",
      "11972           NaN  888f3b3.jpg  Fish\n",
      "2532            NaN  1c3a47b.jpg  Fish\n",
      "19816           NaN  e492617.jpg  Fish\n",
      "21912           NaN  fcf5591.jpg  Fish\n",
      "19664           NaN  e317214.jpg  Fish\n"
     ]
    }
   ],
   "source": [
    "train, test = train_test_split(data_fish, test_size=0.2)\n",
    "del data\n",
    "print(train.head())"
   ]
  },
  {
   "cell_type": "markdown",
   "metadata": {},
   "source": [
    "## Сверточная сеть"
   ]
  },
  {
   "cell_type": "markdown",
   "metadata": {},
   "source": [
    "1. Данные загружаются пакетами\n",
    "2. Функции для загрузки двух типов данных: графических из изображения и типа облака на изображении"
   ]
  },
  {
   "cell_type": "code",
   "execution_count": null,
   "metadata": {},
   "outputs": [],
   "source": [
    "image_ch = 3"
   ]
  },
  {
   "cell_type": "code",
   "execution_count": null,
   "metadata": {},
   "outputs": [],
   "source": [
    "def load_y(df):\n",
    "    return np.array(df[\"EncodedPixels\"].notnull().astype(\"int8\")).reshape(-1, 1)\n",
    "\n",
    "\n",
    "def load_x(df, files_dir):\n",
    "    x = [[] for _ in range(len(df))]\n",
    "    for j, file in enumerate(df[\"Image\"]):\n",
    "        x[j] = io.imread(os.path.join(files_dir, file))\n",
    "    return np.array(x).reshape(len(df), image_y, image_x, image_ch)\n",
    "\n",
    "\n",
    "def load_dat(df, batch_size):\n",
    "    while True:\n",
    "        batch_start = 0\n",
    "        batch_end = batch_size\n",
    "        while batch_start < len(df):\n",
    "            limit = min(batch_end, len(df))\n",
    "            yield (load_x(df[batch_start:limit]),\n",
    "                   load_y(df[batch_start:limit], \"../data/clouds/train_images_small/\"))"
   ]
  },
  {
   "cell_type": "code",
   "execution_count": null,
   "metadata": {},
   "outputs": [],
   "source": [
    "model = Sequential(\n",
    "    [\n",
    "        Conv2D(\n",
    "            32,\n",
    "            (3, 3),\n",
    "            input_shape=(image_y, image_x, image_ch),\n",
    "            strides=(2, 2)\n",
    "        ),\n",
    "        Activation(\"relu\"),\n",
    "        Conv2D(32, (3, 3), strides=(2, 2)),\n",
    "        Activation(\"relu\"),\n",
    "        MaxPooling2D(pool_size=(2, 2)),\n",
    "        Flatten(),\n",
    "        Activation(\"softmax\"),\n",
    "        Dense(1)\n",
    "    ]\n",
    ")"
   ]
  }
 ],
 "metadata": {
  "kernelspec": {
   "display_name": "Python 3.8.10 ('env_dsalgo')",
   "language": "python",
   "name": "python3"
  },
  "language_info": {
   "codemirror_mode": {
    "name": "ipython",
    "version": 3
   },
   "file_extension": ".py",
   "mimetype": "text/x-python",
   "name": "python",
   "nbconvert_exporter": "python",
   "pygments_lexer": "ipython3",
   "version": "3.8.10"
  },
  "orig_nbformat": 4,
  "vscode": {
   "interpreter": {
    "hash": "01c14519b4974e9683bf796b0f04b445c3210d47f2a006233f6cff14adf5564b"
   }
  }
 },
 "nbformat": 4,
 "nbformat_minor": 2
}
