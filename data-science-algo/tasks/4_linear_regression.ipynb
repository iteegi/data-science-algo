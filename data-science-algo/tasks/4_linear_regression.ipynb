{
 "cells": [
  {
   "cell_type": "markdown",
   "metadata": {},
   "source": [
    "# Линейная регрессия\n",
    "Модель линейной регрессии энергопотребления здания, используя температуру воздуха и влажность."
   ]
  },
  {
   "cell_type": "code",
   "execution_count": 1,
   "metadata": {},
   "outputs": [],
   "source": [
    "%matplotlib inline\n",
    "\n",
    "import numpy as np\n",
    "import pandas as pd\n",
    "\n",
    "from sklearn.model_selection import train_test_split\n",
    "from sklearn.linear_model import LinearRegression"
   ]
  },
  {
   "cell_type": "markdown",
   "metadata": {},
   "source": [
    "## Загрузка, объединение, фильтрация данных"
   ]
  },
  {
   "cell_type": "code",
   "execution_count": 2,
   "metadata": {},
   "outputs": [
    {
     "name": "stdout",
     "output_type": "stream",
     "text": [
      "<class 'pandas.core.frame.DataFrame'>\n",
      "RangeIndex: 8784 entries, 0 to 8783\n",
      "Data columns (total 4 columns):\n",
      " #   Column         Non-Null Count  Dtype  \n",
      "---  ------         --------------  -----  \n",
      " 0   building_id    8784 non-null   int64  \n",
      " 1   meter          8784 non-null   int64  \n",
      " 2   timestamp      8784 non-null   object \n",
      " 3   meter_reading  8784 non-null   float64\n",
      "dtypes: float64(1), int64(2), object(1)\n",
      "memory usage: 274.6+ KB\n",
      "None\n"
     ]
    }
   ],
   "source": [
    "buildings= pd.read_csv(\"../data/buildings.csv\")\n",
    "weather = pd.read_csv(\"../data/weather.csv\")\n",
    "energy = pd.read_csv(\"../data/train.csv\")\n",
    "\n",
    "print(energy.info())"
   ]
  },
  {
   "cell_type": "code",
   "execution_count": 3,
   "metadata": {},
   "outputs": [
    {
     "name": "stdout",
     "output_type": "stream",
     "text": [
      "               timestamp  site_id  building_id  meter  meter_reading  \\\n",
      "704  2016-01-30 08:00:00        0            0      0        43.6839   \n",
      "725  2016-01-31 05:00:00        0            0      0        37.5408   \n",
      "737  2016-01-31 17:00:00        0            0      0        52.5571   \n",
      "2366 2016-04-08 14:00:00        0            0      0        59.3827   \n",
      "2923 2016-05-01 19:00:00        0            0      0       448.0000   \n",
      "\n",
      "     primary_use  square_feet  year_built  floor_count  air_temperature  \\\n",
      "704    Education         7432      2008.0          NaN              8.3   \n",
      "725    Education         7432      2008.0          NaN             12.8   \n",
      "737    Education         7432      2008.0          NaN             20.6   \n",
      "2366   Education         7432      2008.0          NaN             21.7   \n",
      "2923   Education         7432      2008.0          NaN             31.1   \n",
      "\n",
      "      cloud_coverage  dew_temperature  precip_depth_1_hr  sea_level_pressure  \\\n",
      "704              NaN              6.1                0.0              1019.0   \n",
      "725              NaN             10.0                0.0              1021.9   \n",
      "737              NaN             11.7                0.0              1020.9   \n",
      "2366             2.0             14.4                0.0              1015.1   \n",
      "2923             NaN             17.2                0.0              1016.1   \n",
      "\n",
      "      wind_direction  wind_speed  hour  \n",
      "704            220.0         2.1     8  \n",
      "725              0.0         0.0     5  \n",
      "737            110.0         1.5    17  \n",
      "2366           250.0         3.1    14  \n",
      "2923           100.0         4.1    19  \n"
     ]
    }
   ],
   "source": [
    "energy = pd.merge(left=energy, right=buildings, how=\"left\", left_on=\"building_id\", right_on=\"building_id\")\n",
    "energy.set_index([\"timestamp\", \"site_id\"], inplace=True)\n",
    "\n",
    "weather.set_index([\"timestamp\", \"site_id\"], inplace=True)\n",
    "energy = pd.merge(left=energy, right=weather, how=\"left\", left_index=True, right_index=True)\n",
    "energy.reset_index(inplace=True)\n",
    "\n",
    "energy = energy[energy[\"meter_reading\"]>0]\n",
    "energy[\"timestamp\"] = pd.to_datetime(energy[\"timestamp\"])\n",
    "energy[\"hour\"] = energy[\"timestamp\"].dt.hour\n",
    "\n",
    "print(energy.head())\n"
   ]
  },
  {
   "cell_type": "markdown",
   "metadata": {},
   "source": [
    "## Разделение данных на обучение и проверку"
   ]
  },
  {
   "cell_type": "code",
   "execution_count": 4,
   "metadata": {},
   "outputs": [
    {
     "name": "stdout",
     "output_type": "stream",
     "text": [
      "               timestamp  site_id  building_id  meter  meter_reading  \\\n",
      "8266 2016-12-10 10:00:00        0            0      0        88.7328   \n",
      "3702 2016-06-03 06:00:00        0            0      0       249.8170   \n",
      "7067 2016-10-21 11:00:00        0            0      0       261.4210   \n",
      "7671 2016-11-15 15:00:00        0            0      0       202.0380   \n",
      "6003 2016-09-07 03:00:00        0            0      0       258.6900   \n",
      "\n",
      "     primary_use  square_feet  year_built  floor_count  air_temperature  \\\n",
      "8266   Education         7432      2008.0          NaN             10.6   \n",
      "3702   Education         7432      2008.0          NaN             25.0   \n",
      "7067   Education         7432      2008.0          NaN             20.6   \n",
      "7671   Education         7432      2008.0          NaN             18.9   \n",
      "6003   Education         7432      2008.0          NaN             25.0   \n",
      "\n",
      "      cloud_coverage  dew_temperature  precip_depth_1_hr  sea_level_pressure  \\\n",
      "8266             NaN              7.2                0.0              1026.5   \n",
      "3702             6.0             22.2                0.0              1018.0   \n",
      "7067             NaN             19.4                0.0              1010.4   \n",
      "7671             NaN             12.8                0.0              1016.6   \n",
      "6003             4.0             21.1                0.0              1021.5   \n",
      "\n",
      "      wind_direction  wind_speed  hour  \n",
      "8266           350.0         4.1    10  \n",
      "3702           130.0         1.5     6  \n",
      "7067           320.0         3.6    11  \n",
      "7671           330.0         2.6    15  \n",
      "6003            60.0         4.1     3  \n"
     ]
    }
   ],
   "source": [
    "energy_train, energy_test = train_test_split(energy, test_size=0.2)\n",
    "print(energy_train.head())"
   ]
  },
  {
   "cell_type": "markdown",
   "metadata": {},
   "source": [
    "## Модель линейной регрессии и среднее\n",
    "\n",
    "$$\\normalsize meter\\_reading = A*air\\_temperature+B*air\\_temperature+C$$\n",
    "\n",
    "где:\n",
    "- $meter\\_reading - потребление\\; энергии\\; в\\; кВтч\\; (или\\; эквивалент);$\n",
    "- $air\\_temperature - температура\\; воздуха, С;$\n",
    "- $air\\_temperature - точка\\; росы\\; (влажность), С;$"
   ]
  },
  {
   "cell_type": "markdown",
   "metadata": {},
   "source": [
    "Дополнительно вычислим среднее по часам, что бы сравнить линейную регрессию с более простой моделью"
   ]
  },
  {
   "cell_type": "code",
   "execution_count": 6,
   "metadata": {},
   "outputs": [
    {
     "name": "stdout",
     "output_type": "stream",
     "text": [
      "[2.20944873 4.11903125] 102.2129872177969\n"
     ]
    }
   ],
   "source": [
    "energy_train_avg = energy_train.groupby(\"hour\")[\"meter_reading\"].mean()\n",
    "\n",
    "energy_train_lr = pd.DataFrame(\n",
    "    energy_train,\n",
    "    columns=[\"meter_reading\", \"air_temperature\", \"dew_temperature\"]\n",
    ")\n",
    "\n",
    "y = energy_train_lr[\"meter_reading\"]\n",
    "x = energy_train_lr.drop(labels=[\"meter_reading\"], axis=1)\n",
    "model = LinearRegression().fit(x,y)\n",
    "\n",
    "print(model.coef_, model.intercept_)"
   ]
  }
 ],
 "metadata": {
  "kernelspec": {
   "display_name": "Python 3 (ipykernel)",
   "language": "python",
   "name": "python3"
  },
  "language_info": {
   "codemirror_mode": {
    "name": "ipython",
    "version": 3
   },
   "file_extension": ".py",
   "mimetype": "text/x-python",
   "name": "python",
   "nbconvert_exporter": "python",
   "pygments_lexer": "ipython3",
   "version": "3.8.10"
  },
  "vscode": {
   "interpreter": {
    "hash": "01c14519b4974e9683bf796b0f04b445c3210d47f2a006233f6cff14adf5564b"
   }
  }
 },
 "nbformat": 4,
 "nbformat_minor": 2
}
