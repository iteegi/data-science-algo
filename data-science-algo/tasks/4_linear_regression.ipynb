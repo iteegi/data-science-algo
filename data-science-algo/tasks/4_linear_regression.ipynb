{
 "cells": [
  {
   "cell_type": "markdown",
   "metadata": {},
   "source": [
    "# Линейная регрессия\n",
    "Модель линейной регрессии энергопотребления здания, используя температуру воздуха и влажность."
   ]
  },
  {
   "cell_type": "code",
   "execution_count": 1,
   "metadata": {},
   "outputs": [],
   "source": [
    "%matplotlib inline\n",
    "\n",
    "import numpy as np\n",
    "import pandas as pd\n",
    "\n",
    "from sklearn.model_selection import train_test_split\n",
    "from sklearn.linear_model import LinearRegression"
   ]
  },
  {
   "cell_type": "markdown",
   "metadata": {},
   "source": [
    "## Загрузка, объединение, фильтрация данных"
   ]
  },
  {
   "cell_type": "code",
   "execution_count": 2,
   "metadata": {},
   "outputs": [
    {
     "name": "stdout",
     "output_type": "stream",
     "text": [
      "<class 'pandas.core.frame.DataFrame'>\n",
      "RangeIndex: 8784 entries, 0 to 8783\n",
      "Data columns (total 4 columns):\n",
      " #   Column         Non-Null Count  Dtype  \n",
      "---  ------         --------------  -----  \n",
      " 0   building_id    8784 non-null   int64  \n",
      " 1   meter          8784 non-null   int64  \n",
      " 2   timestamp      8784 non-null   object \n",
      " 3   meter_reading  8784 non-null   float64\n",
      "dtypes: float64(1), int64(2), object(1)\n",
      "memory usage: 274.6+ KB\n",
      "None\n"
     ]
    }
   ],
   "source": [
    "buildings= pd.read_csv(\"../data/buildings.csv\")\n",
    "weather = pd.read_csv(\"../data/weather.csv\")\n",
    "energy = pd.read_csv(\"../data/train.csv\")\n",
    "\n",
    "print(energy.info())"
   ]
  },
  {
   "cell_type": "code",
   "execution_count": 3,
   "metadata": {},
   "outputs": [
    {
     "name": "stdout",
     "output_type": "stream",
     "text": [
      "               timestamp  site_id  building_id  meter  meter_reading  \\\n",
      "704  2016-01-30 08:00:00        0            0      0        43.6839   \n",
      "725  2016-01-31 05:00:00        0            0      0        37.5408   \n",
      "737  2016-01-31 17:00:00        0            0      0        52.5571   \n",
      "2366 2016-04-08 14:00:00        0            0      0        59.3827   \n",
      "2923 2016-05-01 19:00:00        0            0      0       448.0000   \n",
      "\n",
      "     primary_use  square_feet  year_built  floor_count  air_temperature  \\\n",
      "704    Education         7432      2008.0          NaN              8.3   \n",
      "725    Education         7432      2008.0          NaN             12.8   \n",
      "737    Education         7432      2008.0          NaN             20.6   \n",
      "2366   Education         7432      2008.0          NaN             21.7   \n",
      "2923   Education         7432      2008.0          NaN             31.1   \n",
      "\n",
      "      cloud_coverage  dew_temperature  precip_depth_1_hr  sea_level_pressure  \\\n",
      "704              NaN              6.1                0.0              1019.0   \n",
      "725              NaN             10.0                0.0              1021.9   \n",
      "737              NaN             11.7                0.0              1020.9   \n",
      "2366             2.0             14.4                0.0              1015.1   \n",
      "2923             NaN             17.2                0.0              1016.1   \n",
      "\n",
      "      wind_direction  wind_speed  hour  \n",
      "704            220.0         2.1     8  \n",
      "725              0.0         0.0     5  \n",
      "737            110.0         1.5    17  \n",
      "2366           250.0         3.1    14  \n",
      "2923           100.0         4.1    19  \n"
     ]
    }
   ],
   "source": [
    "energy = pd.merge(left=energy, right=buildings, how=\"left\", left_on=\"building_id\", right_on=\"building_id\")\n",
    "energy.set_index([\"timestamp\", \"site_id\"], inplace=True)\n",
    "\n",
    "weather.set_index([\"timestamp\", \"site_id\"], inplace=True)\n",
    "energy = pd.merge(left=energy, right=weather, how=\"left\", left_index=True, right_index=True)\n",
    "energy.reset_index(inplace=True)\n",
    "\n",
    "energy = energy[energy[\"meter_reading\"]>0]\n",
    "energy[\"timestamp\"] = pd.to_datetime(energy[\"timestamp\"])\n",
    "energy[\"hour\"] = energy[\"timestamp\"].dt.hour\n",
    "\n",
    "print(energy.head())\n"
   ]
  },
  {
   "cell_type": "markdown",
   "metadata": {},
   "source": [
    "## Разделение данных на обучение и проверку"
   ]
  },
  {
   "cell_type": "code",
   "execution_count": 4,
   "metadata": {},
   "outputs": [
    {
     "name": "stdout",
     "output_type": "stream",
     "text": [
      "               timestamp  site_id  building_id  meter  meter_reading  \\\n",
      "3563 2016-05-28 11:00:00        0            0      0        174.735   \n",
      "7926 2016-11-26 06:00:00        0            0      0        234.801   \n",
      "7996 2016-11-29 04:00:00        0            0      0        225.927   \n",
      "4489 2016-07-06 01:00:00        0            0      0        236.166   \n",
      "5514 2016-08-17 18:00:00        0            0      0        310.565   \n",
      "\n",
      "     primary_use  square_feet  year_built  floor_count  air_temperature  \\\n",
      "3563   Education         7432      2008.0          NaN             21.7   \n",
      "7926   Education         7432      2008.0          NaN             17.8   \n",
      "7996   Education         7432      2008.0          NaN             20.6   \n",
      "4489   Education         7432      2008.0          NaN             31.1   \n",
      "5514   Education         7432      2008.0          NaN             32.2   \n",
      "\n",
      "      cloud_coverage  dew_temperature  precip_depth_1_hr  sea_level_pressure  \\\n",
      "3563             2.0             19.4                0.0              1016.2   \n",
      "7926             6.0             15.6                0.0              1021.7   \n",
      "7996             4.0             16.1                0.0              1015.7   \n",
      "4489             NaN             24.4                3.0              1019.6   \n",
      "5514             6.0             22.8                0.0              1020.9   \n",
      "\n",
      "      wind_direction  wind_speed  hour  \n",
      "3563           340.0         1.5    11  \n",
      "7926           290.0         2.1     6  \n",
      "7996           140.0         4.6     4  \n",
      "4489           320.0         3.6     1  \n",
      "5514            90.0         3.6    18  \n"
     ]
    }
   ],
   "source": [
    "energy_train, energy_test = train_test_split(energy, test_size=0.2)\n",
    "print(energy_train.head())"
   ]
  }
 ],
 "metadata": {
  "kernelspec": {
   "display_name": "Python 3 (ipykernel)",
   "language": "python",
   "name": "python3"
  },
  "language_info": {
   "codemirror_mode": {
    "name": "ipython",
    "version": 3
   },
   "file_extension": ".py",
   "mimetype": "text/x-python",
   "name": "python",
   "nbconvert_exporter": "python",
   "pygments_lexer": "ipython3",
   "version": "3.8.10"
  },
  "vscode": {
   "interpreter": {
    "hash": "01c14519b4974e9683bf796b0f04b445c3210d47f2a006233f6cff14adf5564b"
   }
  }
 },
 "nbformat": 4,
 "nbformat_minor": 2
}
