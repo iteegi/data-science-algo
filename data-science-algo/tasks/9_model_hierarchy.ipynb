{
 "cells": [
  {
   "cell_type": "markdown",
   "metadata": {},
   "source": [
    "# Иерархия моделей"
   ]
  },
  {
   "cell_type": "markdown",
   "metadata": {},
   "source": [
    "1. Посчитать модель линейной регрессии по первым 100 зданиям.\n",
    "2. Найти точность, используя только дни недели и праздники, примемяя fit_intercept=False и логарифмируя целевой показатель."
   ]
  },
  {
   "cell_type": "markdown",
   "metadata": {},
   "source": [
    "Для вычисления отсутствующих или некорректных данных построить модели по всем зданиям одного типа в одном и во всех городах."
   ]
  },
  {
   "cell_type": "markdown",
   "metadata": {},
   "source": [
    "## Подключение библиотек"
   ]
  },
  {
   "cell_type": "code",
   "execution_count": 1,
   "metadata": {},
   "outputs": [],
   "source": [
    "import pandas as pd\n",
    "import numpy as np\n",
    "\n",
    "from pandas.tseries.holiday import USFederalHolidayCalendar as calendar\n",
    "from scipy.interpolate import interp1d\n",
    "from sklearn.model_selection import train_test_split\n",
    "from sklearn.linear_model import LinearRegression\n",
    "\n",
    "from core.reduce_mem_usage import reduce_mem_usage"
   ]
  },
  {
   "cell_type": "markdown",
   "metadata": {},
   "source": [
    "## Загрузка данных"
   ]
  },
  {
   "cell_type": "code",
   "execution_count": 2,
   "metadata": {},
   "outputs": [],
   "source": [
    "buildings = pd.read_csv(\"../data/buildings.csv\")\n",
    "weather = pd.read_csv(\"../data/weather.csv\")\n",
    "energy = pd.read_csv(\"../data/train.0.csv\")"
   ]
  },
  {
   "cell_type": "markdown",
   "metadata": {},
   "source": [
    "## Отбор 100 зданий, объединение и оптимизация"
   ]
  },
  {
   "cell_type": "code",
   "execution_count": 3,
   "metadata": {},
   "outputs": [
    {
     "name": "stdout",
     "output_type": "stream",
     "text": [
      "Потребление памяти меньше на - 56.89 Мб (минус 71.9%)\n",
      "<class 'pandas.core.frame.DataFrame'>\n",
      "RangeIndex: 864557 entries, 0 to 864556\n",
      "Data columns (total 12 columns):\n",
      " #   Column              Non-Null Count   Dtype         \n",
      "---  ------              --------------   -----         \n",
      " 0   timestamp           864557 non-null  datetime64[ns]\n",
      " 1   site_id             864557 non-null  int8          \n",
      " 2   building_id         864557 non-null  int8          \n",
      " 3   meter_reading       864557 non-null  float16       \n",
      " 4   primary_use         864557 non-null  category      \n",
      " 5   air_temperature     864263 non-null  float16       \n",
      " 6   cloud_coverage      487693 non-null  float16       \n",
      " 7   dew_temperature     864263 non-null  float16       \n",
      " 8   precip_depth_1_hr   864459 non-null  float16       \n",
      " 9   sea_level_pressure  856210 non-null  float16       \n",
      " 10  wind_direction      839970 non-null  float16       \n",
      " 11  wind_speed          864557 non-null  float16       \n",
      "dtypes: category(1), datetime64[ns](1), float16(8), int8(2)\n",
      "memory usage: 22.3 MB\n",
      "None\n"
     ]
    }
   ],
   "source": [
    "energy = energy[energy[\"building_id\"]<100]\n",
    "energy = pd.merge(\n",
    "    left=energy,\n",
    "    right=buildings,\n",
    "    how=\"left\",\n",
    "    left_on=\"building_id\",\n",
    "    right_on=\"building_id\",\n",
    ")\n",
    "energy = energy.set_index([\"timestamp\", \"site_id\"])\n",
    "weather = weather.set_index([\"timestamp\", \"site_id\"])\n",
    "energy = pd.merge(\n",
    "    left=energy,\n",
    "    right=weather,\n",
    "    how=\"left\",\n",
    "    left_index=True,\n",
    "    right_index=True,\n",
    ")\n",
    "energy.reset_index(inplace=True)\n",
    "energy = energy.drop(\n",
    "    columns=[\n",
    "        \"meter\",\n",
    "        \"year_built\",\n",
    "        \"square_feet\",\n",
    "        \"floor_count\",\n",
    "    ],\n",
    "    axis=1\n",
    ")\n",
    "\n",
    "del buildings\n",
    "del weather\n",
    "\n",
    "energy = reduce_mem_usage(energy)\n",
    "print(energy.info())"
   ]
  },
  {
   "cell_type": "markdown",
   "metadata": {},
   "source": [
    "## Обогащение данных: час, дни недели, праздники"
   ]
  },
  {
   "cell_type": "code",
   "execution_count": 4,
   "metadata": {},
   "outputs": [],
   "source": [
    "energy[\"hour\"] = energy[\"timestamp\"].dt.hour.astype(\"int8\")\n",
    "energy[\"weekday\"] = energy[\"timestamp\"].dt.weekday.astype(\"int8\")\n",
    "\n",
    "for weekday in range(0, 7):\n",
    "    energy[f\"is_wday {str(weekday)}\"] = energy[\"weekday\"].isin([weekday]).astype(\"int8\")\n",
    "\n",
    "energy[\"date\"] = pd.to_datetime(energy[\"timestamp\"].dt.date)\n",
    "dates_range = pd.date_range(start=\"2015-12-31\", end=\"2017-01-01\")\n",
    "us_holidays = calendar().holidays(start=dates_range.min(), end=dates_range.max())\n",
    "energy[\"is_holiday\"] = energy[\"date\"].isin(us_holidays).astype(\"int8\")"
   ]
  },
  {
   "cell_type": "markdown",
   "metadata": {},
   "source": [
    "## Логарифмирование данных"
   ]
  },
  {
   "cell_type": "code",
   "execution_count": 5,
   "metadata": {},
   "outputs": [],
   "source": [
    "energy[\"meter_reading_log\"] = np.log(energy[\"meter_reading\"] + 1)"
   ]
  },
  {
   "cell_type": "markdown",
   "metadata": {},
   "source": [
    "## Разделение данных"
   ]
  },
  {
   "cell_type": "code",
   "execution_count": 6,
   "metadata": {},
   "outputs": [
    {
     "name": "stdout",
     "output_type": "stream",
     "text": [
      "<class 'pandas.core.frame.DataFrame'>\n",
      "Int64Index: 427872 entries, 385883 to 710027\n",
      "Data columns (total 24 columns):\n",
      " #   Column              Non-Null Count   Dtype         \n",
      "---  ------              --------------   -----         \n",
      " 0   timestamp           427872 non-null  datetime64[ns]\n",
      " 1   site_id             427872 non-null  int8          \n",
      " 2   building_id         427872 non-null  int8          \n",
      " 3   meter_reading       427872 non-null  float16       \n",
      " 4   primary_use         427872 non-null  category      \n",
      " 5   air_temperature     427867 non-null  float16       \n",
      " 6   cloud_coverage      248665 non-null  float16       \n",
      " 7   dew_temperature     427867 non-null  float16       \n",
      " 8   precip_depth_1_hr   427869 non-null  float16       \n",
      " 9   sea_level_pressure  425626 non-null  float16       \n",
      " 10  wind_direction      414086 non-null  float16       \n",
      " 11  wind_speed          427872 non-null  float16       \n",
      " 12  hour                427872 non-null  int8          \n",
      " 13  weekday             427872 non-null  int8          \n",
      " 14  is_wday 0           427872 non-null  int8          \n",
      " 15  is_wday 1           427872 non-null  int8          \n",
      " 16  is_wday 2           427872 non-null  int8          \n",
      " 17  is_wday 3           427872 non-null  int8          \n",
      " 18  is_wday 4           427872 non-null  int8          \n",
      " 19  is_wday 5           427872 non-null  int8          \n",
      " 20  is_wday 6           427872 non-null  int8          \n",
      " 21  date                427872 non-null  datetime64[ns]\n",
      " 22  is_holiday          427872 non-null  int8          \n",
      " 23  meter_reading_log   427872 non-null  float16       \n",
      "dtypes: category(1), datetime64[ns](2), float16(9), int8(12)\n",
      "memory usage: 22.4 MB\n",
      "None\n"
     ]
    }
   ],
   "source": [
    "energy_train, energy_test = train_test_split(\n",
    "    energy[energy[\"meter_reading\"] > 0],\n",
    "    test_size=0.2\n",
    ")\n",
    "print(energy_train.info())"
   ]
  },
  {
   "cell_type": "markdown",
   "metadata": {},
   "source": [
    "## Линейная регрессия:"
   ]
  },
  {
   "cell_type": "markdown",
   "metadata": {},
   "source": [
    "1. по часам"
   ]
  },
  {
   "cell_type": "code",
   "execution_count": 7,
   "metadata": {},
   "outputs": [
    {
     "name": "stdout",
     "output_type": "stream",
     "text": [
      "[array([-0.14266659,  5.48859534,  5.42505787,  5.49555496,  5.44189769,\n",
      "        5.47925173,  5.41436298,  5.45272091,  0.        ]), array([-0.03556129,  5.46504843,  5.48317308,  5.4811481 ,  5.43870647,\n",
      "        5.424375  ,  5.46831597,  5.4421875 ,  0.        ]), array([-0.09178188,  5.42429508,  5.43923611,  5.49739583,  5.49632753,\n",
      "        5.46313414,  5.47237723,  5.44173177,  0.        ]), array([-0.14011557,  5.52352896,  5.49473505,  5.4703776 ,  5.46563633,\n",
      "        5.45341712,  5.45878233,  5.48350694,  0.        ]), array([-0.11436068,  5.47018701,  5.42390046,  5.50811298,  5.48918928,\n",
      "        5.45330306,  5.455     ,  5.4384375 ,  0.        ]), array([-0.05101732,  5.44760242,  5.4367488 ,  5.47828125,  5.4640625 ,\n",
      "        5.43342692,  5.4266183 ,  5.44260817,  0.        ]), array([0.04638672, 5.4523112 , 5.44850852, 5.4645544 , 5.43574219,\n",
      "       5.45911458, 5.44679418, 5.45751953, 0.        ]), array([-0.1180114 ,  5.50209044,  5.45630787,  5.47809103,  5.48244934,\n",
      "        5.45163229,  5.48321759,  5.47554977,  0.        ]), array([-0.10650488,  5.45375953,  5.45733173,  5.4784375 ,  5.5390625 ,\n",
      "        5.47920504,  5.47627315,  5.43299279,  0.        ]), array([-0.04409648,  5.41883668,  5.39697266,  5.49190848,  5.38523925,\n",
      "        5.44835069,  5.46265625,  5.42203125,  0.        ]), array([-0.11072926,  5.47875746,  5.419375  ,  5.46907552,  5.41989584,\n",
      "        5.41845294,  5.47843071,  5.45177802,  0.        ]), array([-0.10074384,  5.44407948,  5.43938079,  5.44091797,  5.49801764,\n",
      "        5.42346315,  5.39152644,  5.4165625 ,  0.        ]), array([-0.05296844,  5.42793474,  5.47395833,  5.40928819,  5.42430624,\n",
      "        5.47860676,  5.35963542,  5.45849609,  0.        ]), array([-0.04291157,  5.42396957,  5.4409375 ,  5.49233774,  5.46399208,\n",
      "        5.46722147,  5.37572338,  5.40569196,  0.        ]), array([-0.11705892,  5.43807623,  5.501875  ,  5.48270089,  5.48422556,\n",
      "        5.43386818,  5.41809896,  5.48295455,  0.        ]), array([-0.0823635 ,  5.42208441,  5.47281901,  5.48231908,  5.39266954,\n",
      "        5.44833009,  5.4054988 ,  5.39243345,  0.        ]), array([-0.17399597,  5.45649719,  5.48737981,  5.51307091,  5.47758484,\n",
      "        5.45290799,  5.44080529,  5.40625   ,  0.        ]), array([-0.15636657,  5.4901748 ,  5.49679129,  5.50679348,  5.35156736,\n",
      "        5.46009338,  5.47193287,  5.31757812,  0.        ]), array([-0.17496821,  5.41643615,  5.4603125 ,  5.48032407,  5.43370422,\n",
      "        5.44892132,  5.42390046,  5.4220097 ,  0.        ]), array([-0.13111017,  5.47920382,  5.45703125,  5.46542245,  5.4377263 ,\n",
      "        5.45946316,  5.4359375 ,  5.4366862 ,  0.        ]), array([-0.07524671,  5.43071546,  5.47375   ,  5.48172433,  5.42203776,\n",
      "        5.42592076,  5.43534483,  5.44665948,  0.        ]), array([-0.07531766,  5.43149826,  5.48032407,  5.48088728,  5.42470443,\n",
      "        5.47698976,  5.44091797,  5.47865513,  0.        ]), array([-0.0915117 ,  5.42322282,  5.510625  ,  5.495625  ,  5.46070992,\n",
      "        5.43421136,  5.42424665,  5.49609375,  0.        ]), array([-0.11677406,  5.50329964,  5.49247685,  5.42798913,  5.45279596,\n",
      "        5.46453909,  5.45643029,  5.4889606 ,  0.        ]), [0, 0, 0, 0, 0, 0, 0, 0], [0, 0, 0, 0, 0, 0, 0, 0], [0, 0, 0, 0, 0, 0, 0, 0], [0, 0, 0, 0, 0, 0, 0, 0], [0, 0, 0, 0, 0, 0, 0, 0], [0, 0, 0, 0, 0, 0, 0, 0], [0, 0, 0, 0, 0, 0, 0, 0], [0, 0, 0, 0, 0, 0, 0, 0], [0, 0, 0, 0, 0, 0, 0, 0], [0, 0, 0, 0, 0, 0, 0, 0], [0, 0, 0, 0, 0, 0, 0, 0], [0, 0, 0, 0, 0, 0, 0, 0], [0, 0, 0, 0, 0, 0, 0, 0], [0, 0, 0, 0, 0, 0, 0, 0], [0, 0, 0, 0, 0, 0, 0, 0], [0, 0, 0, 0, 0, 0, 0, 0], [0, 0, 0, 0, 0, 0, 0, 0], [0, 0, 0, 0, 0, 0, 0, 0], [0, 0, 0, 0, 0, 0, 0, 0], [0, 0, 0, 0, 0, 0, 0, 0], [0, 0, 0, 0, 0, 0, 0, 0], [0, 0, 0, 0, 0, 0, 0, 0], [0, 0, 0, 0, 0, 0, 0, 0], [0, 0, 0, 0, 0, 0, 0, 0]]\n"
     ]
    }
   ],
   "source": [
    "hours = range(0, 24)\n",
    "buildings = range(0, energy_train[\"building_id\"].max() + 1)\n",
    "lr_columns = [\n",
    "    \"meter_reading_log\",\n",
    "    \"hour\",\n",
    "    \"building_id\",\n",
    "    \"is_holiday\",\n",
    "]\n",
    "\n",
    "for wday in range(0, 7):\n",
    "    lr_columns.append(f\"is_wday {str(wday)}\")\n",
    "\n",
    "energy_train_lr = pd.DataFrame(energy_train, columns=lr_columns)\n",
    "energy_lr = [[] for _ in range(len(buildings))]\n",
    "\n",
    "for building in buildings:\n",
    "    energy_lr[building] = [[] for _ in range(len(hours))]\n",
    "    energy_train_b = energy_train_lr[energy_train_lr[\"building_id\"] == building]\n",
    "    for hour in hours:\n",
    "        energy_lr[building].append([0 for _ in range(len(lr_columns) - 3)])\n",
    "        energy_train_bh = pd.DataFrame(energy_train_b[energy_train_b[\"hour\"] == hour])\n",
    "        y = energy_train_bh[\"meter_reading_log\"]\n",
    "        if len(y) > 0:\n",
    "            x = energy_train_bh.drop(labels=[\n",
    "                    \"meter_reading_log\",\n",
    "                    \"hour\",\n",
    "                    \"building_id\",\n",
    "                ],\n",
    "                axis=1\n",
    "            )\n",
    "            model = LinearRegression(fit_intercept=False).fit(x, y)\n",
    "            energy_lr[building][hour] = model.coef_\n",
    "            energy_lr[building][hour] = np.append(energy_lr[building][hour], model.intercept_)\n",
    "\n",
    "print(energy_lr[0])"
   ]
  }
 ],
 "metadata": {
  "kernelspec": {
   "display_name": "Python 3.8.10 ('env_dsalgo')",
   "language": "python",
   "name": "python3"
  },
  "language_info": {
   "codemirror_mode": {
    "name": "ipython",
    "version": 3
   },
   "file_extension": ".py",
   "mimetype": "text/x-python",
   "name": "python",
   "nbconvert_exporter": "python",
   "pygments_lexer": "ipython3",
   "version": "3.8.10"
  },
  "orig_nbformat": 4,
  "vscode": {
   "interpreter": {
    "hash": "01c14519b4974e9683bf796b0f04b445c3210d47f2a006233f6cff14adf5564b"
   }
  }
 },
 "nbformat": 4,
 "nbformat_minor": 2
}
