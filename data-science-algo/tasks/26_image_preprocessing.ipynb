{
 "cells": [
  {
   "cell_type": "markdown",
   "metadata": {},
   "source": [
    "# Предобработка изображений"
   ]
  },
  {
   "cell_type": "markdown",
   "metadata": {},
   "source": [
    "## Подключение библиотек"
   ]
  },
  {
   "cell_type": "code",
   "execution_count": 1,
   "metadata": {},
   "outputs": [],
   "source": [
    "import pandas as pd\n",
    "import numpy as np\n",
    "from PIL import Image"
   ]
  },
  {
   "cell_type": "markdown",
   "metadata": {},
   "source": [
    "## Загрузка данных"
   ]
  },
  {
   "cell_type": "code",
   "execution_count": 2,
   "metadata": {},
   "outputs": [
    {
     "name": "stdout",
     "output_type": "stream",
     "text": [
      "          Image_Label                                      EncodedPixels\n",
      "0    0011165.jpg_Fish  264918 937 266318 937 267718 937 269118 937 27...\n",
      "1  0011165.jpg_Flower  1355565 1002 1356965 1002 1358365 1002 1359765...\n",
      "2  0011165.jpg_Gravel                                                NaN\n",
      "3   0011165.jpg_Sugar                                                NaN\n",
      "4    002be4f.jpg_Fish  233813 878 235213 878 236613 878 238010 881 23...\n"
     ]
    }
   ],
   "source": [
    "train = pd.read_csv(\"../data/clouds/train.csv.gz\")\n",
    "print(train.head())"
   ]
  },
  {
   "cell_type": "markdown",
   "metadata": {},
   "source": [
    "## Очистка данных"
   ]
  },
  {
   "cell_type": "code",
   "execution_count": 3,
   "metadata": {},
   "outputs": [
    {
     "name": "stdout",
     "output_type": "stream",
     "text": [
      "                                       EncodedPixels        Image   Label\n",
      "0  264918 937 266318 937 267718 937 269118 937 27...  0011165.jpg    Fish\n",
      "1  1355565 1002 1356965 1002 1358365 1002 1359765...  0011165.jpg  Flower\n",
      "2                                                NaN  0011165.jpg  Gravel\n",
      "3                                                NaN  0011165.jpg   Sugar\n",
      "4  233813 878 235213 878 236613 878 238010 881 23...  002be4f.jpg    Fish\n"
     ]
    }
   ],
   "source": [
    "train[\"Image\"] = train[\"Image_Label\"].str.split(\"_\").str[0]\n",
    "train[\"Label\"] = train[\"Image_Label\"].str.split(\"_\").str[1]\n",
    "train.drop(labels=[\"Image_Label\"], axis=1, inplace=True)\n",
    "print(train.head())"
   ]
  },
  {
   "cell_type": "code",
   "execution_count": 4,
   "metadata": {},
   "outputs": [
    {
     "name": "stdout",
     "output_type": "stream",
     "text": [
      "         Image                                               Fish  \\\n",
      "0  0011165.jpg  264918 937 266318 937 267718 937 269118 937 27...   \n",
      "1  002be4f.jpg  233813 878 235213 878 236613 878 238010 881 23...   \n",
      "2  0031ae9.jpg  3510 690 4910 690 6310 690 7710 690 9110 690 1...   \n",
      "3  0035239.jpg                                                NaN   \n",
      "4  003994e.jpg  2367966 18 2367985 2 2367993 8 2368002 62 2369...   \n",
      "\n",
      "                                              Flower  \\\n",
      "0  1355565 1002 1356965 1002 1358365 1002 1359765...   \n",
      "1  1339279 519 1340679 519 1342079 519 1343479 51...   \n",
      "2  2047 703 3447 703 4847 703 6247 703 7647 703 9...   \n",
      "3  100812 462 102212 462 103612 462 105012 462 10...   \n",
      "4                                                NaN   \n",
      "\n",
      "                                              Gravel  \\\n",
      "0                                                NaN   \n",
      "1                                                NaN   \n",
      "2                                                NaN   \n",
      "3  65400 380 66800 380 68200 380 69600 380 71000 ...   \n",
      "4  353317 416 354717 416 356117 416 357517 416 35...   \n",
      "\n",
      "                                               Sugar  \n",
      "0                                                NaN  \n",
      "1  67495 350 68895 350 70295 350 71695 350 73095 ...  \n",
      "2  658170 388 659570 388 660970 388 662370 388 66...  \n",
      "3                                                NaN  \n",
      "4  28011 489 29411 489 30811 489 32211 489 33611 ...  \n"
     ]
    }
   ],
   "source": [
    "data = pd.DataFrame({\"Image\": train[\"Image\"].unique()})\n",
    "for label in train[\"Label\"].unique():\n",
    "    data[label] = pd.Series(train[train[\"Label\"] == label][\"EncodedPixels\"].values)\n",
    "print(data.head())"
   ]
  }
 ],
 "metadata": {
  "kernelspec": {
   "display_name": "Python 3.8.10 ('env_dsalgo')",
   "language": "python",
   "name": "python3"
  },
  "language_info": {
   "codemirror_mode": {
    "name": "ipython",
    "version": 3
   },
   "file_extension": ".py",
   "mimetype": "text/x-python",
   "name": "python",
   "nbconvert_exporter": "python",
   "pygments_lexer": "ipython3",
   "version": "3.8.10"
  },
  "orig_nbformat": 4,
  "vscode": {
   "interpreter": {
    "hash": "01c14519b4974e9683bf796b0f04b445c3210d47f2a006233f6cff14adf5564b"
   }
  }
 },
 "nbformat": 4,
 "nbformat_minor": 2
}
