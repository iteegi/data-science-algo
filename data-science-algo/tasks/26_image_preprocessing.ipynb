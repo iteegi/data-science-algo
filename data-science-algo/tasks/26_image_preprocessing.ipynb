{
 "cells": [
  {
   "cell_type": "markdown",
   "metadata": {},
   "source": [
    "# Предобработка изображений"
   ]
  },
  {
   "cell_type": "markdown",
   "metadata": {},
   "source": [
    "## Подключение библиотек"
   ]
  },
  {
   "cell_type": "code",
   "execution_count": 1,
   "metadata": {},
   "outputs": [],
   "source": [
    "import pandas as pd\n",
    "import numpy as np\n",
    "from PIL import Image"
   ]
  },
  {
   "cell_type": "markdown",
   "metadata": {},
   "source": [
    "## Загрузка данных"
   ]
  },
  {
   "cell_type": "code",
   "execution_count": 2,
   "metadata": {},
   "outputs": [
    {
     "name": "stdout",
     "output_type": "stream",
     "text": [
      "          Image_Label                                      EncodedPixels\n",
      "0    0011165.jpg_Fish  264918 937 266318 937 267718 937 269118 937 27...\n",
      "1  0011165.jpg_Flower  1355565 1002 1356965 1002 1358365 1002 1359765...\n",
      "2  0011165.jpg_Gravel                                                NaN\n",
      "3   0011165.jpg_Sugar                                                NaN\n",
      "4    002be4f.jpg_Fish  233813 878 235213 878 236613 878 238010 881 23...\n"
     ]
    }
   ],
   "source": [
    "train = pd.read_csv(\"../data/clouds/train.csv.gz\")\n",
    "print(train.head())"
   ]
  }
 ],
 "metadata": {
  "kernelspec": {
   "display_name": "Python 3.8.10 ('env_dsalgo')",
   "language": "python",
   "name": "python3"
  },
  "language_info": {
   "codemirror_mode": {
    "name": "ipython",
    "version": 3
   },
   "file_extension": ".py",
   "mimetype": "text/x-python",
   "name": "python",
   "nbconvert_exporter": "python",
   "pygments_lexer": "ipython3",
   "version": "3.8.10"
  },
  "orig_nbformat": 4,
  "vscode": {
   "interpreter": {
    "hash": "01c14519b4974e9683bf796b0f04b445c3210d47f2a006233f6cff14adf5564b"
   }
  }
 },
 "nbformat": 4,
 "nbformat_minor": 2
}
