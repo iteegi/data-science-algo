{
 "cells": [
  {
   "cell_type": "markdown",
   "metadata": {},
   "source": [
    "# Опорные векторы и коэфициент сходства"
   ]
  },
  {
   "cell_type": "markdown",
   "metadata": {},
   "source": [
    "Для работы нужен файл clouds.data.h5. Если нет в папке - запустить 26_image_preprocessing.ipynb"
   ]
  },
  {
   "cell_type": "markdown",
   "metadata": {},
   "source": [
    "1. Построить модель опорных векторов для типа облака Fish\n",
    "2. Сделать оценку качества по F1 и коэфициенту сходства"
   ]
  },
  {
   "cell_type": "markdown",
   "metadata": {},
   "source": [
    "## Подключение библиотек"
   ]
  },
  {
   "cell_type": "code",
   "execution_count": 1,
   "metadata": {},
   "outputs": [],
   "source": [
    "import pandas as pd\n",
    "import numpy as np\n",
    "\n",
    "from sklearn.model_selection import train_test_split\n",
    "from sklearn.linear_model import SGDClassifier\n",
    "from sklearn.metrics import f1_score"
   ]
  },
  {
   "cell_type": "markdown",
   "metadata": {},
   "source": [
    "## Загрузка данных"
   ]
  },
  {
   "cell_type": "code",
   "execution_count": 3,
   "metadata": {},
   "outputs": [
    {
     "name": "stdout",
     "output_type": "stream",
     "text": [
      "    0   1    2    3    4    5    6    7    8    9  ...  183745  183746  \\\n",
      "0   0   0    0    0    0    0    0    0    0    0  ...     102     113   \n",
      "1  72  43   32   39   49   69   71   47   25   22  ...      38      58   \n",
      "2  97  98  100  102  105  107  109  110  111  112  ...       0       0   \n",
      "3  88  87   90   94   94   89   87   87   82   82  ...     166     164   \n",
      "4  18  19   21   21   21   20   18   17   15   16  ...     125     137   \n",
      "\n",
      "   183747  183748  183749        Image  \\\n",
      "0     102      96     117  0011165.jpg   \n",
      "1      83     111     134  002be4f.jpg   \n",
      "2       0       0       0  0031ae9.jpg   \n",
      "3     109      70      72  0035239.jpg   \n",
      "4      93      60      49  003994e.jpg   \n",
      "\n",
      "                                                Fish  \\\n",
      "0  264918 937 266318 937 267718 937 269118 937 27...   \n",
      "1  233813 878 235213 878 236613 878 238010 881 23...   \n",
      "2  3510 690 4910 690 6310 690 7710 690 9110 690 1...   \n",
      "3                                                NaN   \n",
      "4  2367966 18 2367985 2 2367993 8 2368002 62 2369...   \n",
      "\n",
      "                                              Flower  \\\n",
      "0  1355565 1002 1356965 1002 1358365 1002 1359765...   \n",
      "1  1339279 519 1340679 519 1342079 519 1343479 51...   \n",
      "2  2047 703 3447 703 4847 703 6247 703 7647 703 9...   \n",
      "3  100812 462 102212 462 103612 462 105012 462 10...   \n",
      "4                                                NaN   \n",
      "\n",
      "                                              Gravel  \\\n",
      "0                                                NaN   \n",
      "1                                                NaN   \n",
      "2                                                NaN   \n",
      "3  65400 380 66800 380 68200 380 69600 380 71000 ...   \n",
      "4  353317 416 354717 416 356117 416 357517 416 35...   \n",
      "\n",
      "                                               Sugar  \n",
      "0                                                NaN  \n",
      "1  67495 350 68895 350 70295 350 71695 350 73095 ...  \n",
      "2  658170 388 659570 388 660970 388 662370 388 66...  \n",
      "3                                                NaN  \n",
      "4  28011 489 29411 489 30811 489 32211 489 33611 ...  \n",
      "\n",
      "[5 rows x 183755 columns]\n"
     ]
    }
   ],
   "source": [
    "clouds = pd.read_hdf(\"../data/out/clouds.data.h5\")\n",
    "print(clouds.head())"
   ]
  },
  {
   "cell_type": "markdown",
   "metadata": {},
   "source": [
    "## Оставить данные только по Fish"
   ]
  },
  {
   "cell_type": "code",
   "execution_count": 4,
   "metadata": {},
   "outputs": [],
   "source": [
    "clouds.drop(\n",
    "    labels=[\n",
    "        \"Image\",\n",
    "        \"Flower\",\n",
    "        \"Gravel\",\n",
    "        \"Sugar\",\n",
    "    ],\n",
    "    axis=1,\n",
    "    inplace=True,\n",
    ")"
   ]
  },
  {
   "cell_type": "markdown",
   "metadata": {},
   "source": [
    "## Разделить данные"
   ]
  },
  {
   "cell_type": "code",
   "execution_count": 5,
   "metadata": {},
   "outputs": [
    {
     "name": "stdout",
     "output_type": "stream",
     "text": [
      "        0    1    2    3    4    5    6    7    8    9  ...  183741  183742  \\\n",
      "2612  148  151  154  156  157  155  153  151  137  133  ...      77      78   \n",
      "4836    0    0    1    1    1    1    1    1    7    0  ...      44      24   \n",
      "4080  202  159  113   98  105   91  101  167  136  126  ...      73      61   \n",
      "5541    9   35   51   47   50   61   55   37   24   63  ...     177     178   \n",
      "2667  217  216  212  211  219  223  196  156  158  145  ...      59      80   \n",
      "\n",
      "      183743  183744  183745  183746  183747  183748  183749  \\\n",
      "2612      78      78      76      77      78      79      79   \n",
      "4836      27      23      25      21      20      21      20   \n",
      "4080      75     126     145     143     149     131     125   \n",
      "5541     177     174     177     171     159     157     166   \n",
      "2667      82      91      88      78      55      40      45   \n",
      "\n",
      "                                                   Fish  \n",
      "2612  45095 367 46495 367 47895 367 49295 367 50695 ...  \n",
      "4836  471292 508 472692 508 474092 508 475492 508 47...  \n",
      "4080                                                NaN  \n",
      "5541  12631 4 12638 3 12649 16 13377 8 13395 13 1341...  \n",
      "2667                                                NaN  \n",
      "\n",
      "[5 rows x 183751 columns]\n"
     ]
    }
   ],
   "source": [
    "clouds_train, clouds_test = train_test_split(clouds, test_size=0.2)\n",
    "del clouds\n",
    "print(clouds_train.head())"
   ]
  }
 ],
 "metadata": {
  "kernelspec": {
   "display_name": "Python 3.8.10 ('env_dsalgo')",
   "language": "python",
   "name": "python3"
  },
  "language_info": {
   "codemirror_mode": {
    "name": "ipython",
    "version": 3
   },
   "file_extension": ".py",
   "mimetype": "text/x-python",
   "name": "python",
   "nbconvert_exporter": "python",
   "pygments_lexer": "ipython3",
   "version": "3.8.10"
  },
  "orig_nbformat": 4,
  "vscode": {
   "interpreter": {
    "hash": "01c14519b4974e9683bf796b0f04b445c3210d47f2a006233f6cff14adf5564b"
   }
  }
 },
 "nbformat": 4,
 "nbformat_minor": 2
}
