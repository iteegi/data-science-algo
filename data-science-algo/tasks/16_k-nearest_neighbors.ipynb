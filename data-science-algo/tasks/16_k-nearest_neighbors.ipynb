{
 "cells": [
  {
   "cell_type": "markdown",
   "metadata": {},
   "source": [
    "# Метод ближайших соседей"
   ]
  },
  {
   "cell_type": "markdown",
   "metadata": {},
   "source": [
    "1. Разделить выборку 80/20\n",
    "2. Применить метод ближайших соседей для классификации скоринга.\n",
    "3. Проверить качество предсказания через каппа-метрику и матрицу неточностей."
   ]
  }
 ],
 "metadata": {
  "language_info": {
   "name": "python"
  },
  "orig_nbformat": 4
 },
 "nbformat": 4,
 "nbformat_minor": 2
}
