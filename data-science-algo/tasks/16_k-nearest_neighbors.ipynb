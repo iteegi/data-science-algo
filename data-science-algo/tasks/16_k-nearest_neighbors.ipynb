{
 "cells": [
  {
   "cell_type": "markdown",
   "metadata": {},
   "source": [
    "# Метод ближайших соседей"
   ]
  },
  {
   "cell_type": "markdown",
   "metadata": {},
   "source": [
    "1. Разделить выборку 80/20\n",
    "2. Применить метод ближайших соседей для классификации скоринга.\n",
    "3. Проверить качество предсказания через каппа-метрику и матрицу неточностей."
   ]
  },
  {
   "cell_type": "markdown",
   "metadata": {},
   "source": [
    "## Подключить библиотеки"
   ]
  },
  {
   "cell_type": "code",
   "execution_count": 1,
   "metadata": {},
   "outputs": [],
   "source": [
    "import pandas as pd\n",
    "import numpy as np\n",
    "\n",
    "from sklearn.model_selection import train_test_split\n",
    "from sklearn.metrics import cohen_kappa_score, confusion_matrix\n",
    "from sklearn.neighbors import KNeighborsClassifier"
   ]
  },
  {
   "cell_type": "markdown",
   "metadata": {},
   "source": [
    "## Загрузка данных"
   ]
  },
  {
   "cell_type": "code",
   "execution_count": 2,
   "metadata": {},
   "outputs": [
    {
     "name": "stdout",
     "output_type": "stream",
     "text": [
      "<class 'pandas.core.frame.DataFrame'>\n",
      "RangeIndex: 59381 entries, 0 to 59380\n",
      "Columns: 128 entries, Id to Response\n",
      "dtypes: float64(18), int64(109), object(1)\n",
      "memory usage: 58.0+ MB\n",
      "None\n"
     ]
    }
   ],
   "source": [
    "data = pd.read_csv(\"../data/prudential/train.csv.gz\")\n",
    "print(data.info())"
   ]
  },
  {
   "cell_type": "markdown",
   "metadata": {},
   "source": [
    "## Разделить данные"
   ]
  },
  {
   "cell_type": "code",
   "execution_count": 3,
   "metadata": {},
   "outputs": [
    {
     "name": "stdout",
     "output_type": "stream",
     "text": [
      "          Id  Product_Info_1 Product_Info_2  Product_Info_3  Product_Info_4  \\\n",
      "54888  73099               1             D3              26        0.487179   \n",
      "43935  58426               1             A8              26        0.179487   \n",
      "22339  29750               1             D3              26        0.076923   \n",
      "23296  31062               2             D4              26        0.641026   \n",
      "12420  16513               1             D4              26        0.230769   \n",
      "\n",
      "       Product_Info_5  Product_Info_6  Product_Info_7   Ins_Age        Ht  \\\n",
      "54888               2               1               1  0.208955  0.818182   \n",
      "43935               2               3               1  0.641791  0.727273   \n",
      "22339               2               3               1  0.417910  0.600000   \n",
      "23296               2               3               1  0.208955  0.672727   \n",
      "12420               2               3               1  0.477612  0.727273   \n",
      "\n",
      "       ...  Medical_Keyword_40  Medical_Keyword_41  Medical_Keyword_42  \\\n",
      "54888  ...                   0                   0                   0   \n",
      "43935  ...                   0                   0                   0   \n",
      "22339  ...                   0                   0                   0   \n",
      "23296  ...                   0                   0                   0   \n",
      "12420  ...                   0                   0                   0   \n",
      "\n",
      "       Medical_Keyword_43  Medical_Keyword_44  Medical_Keyword_45  \\\n",
      "54888                   0                   0                   0   \n",
      "43935                   0                   0                   0   \n",
      "22339                   0                   0                   0   \n",
      "23296                   0                   0                   0   \n",
      "12420                   0                   0                   0   \n",
      "\n",
      "       Medical_Keyword_46  Medical_Keyword_47  Medical_Keyword_48  Response  \n",
      "54888                   0                   0                   0         6  \n",
      "43935                   0                   0                   0         4  \n",
      "22339                   0                   0                   0         4  \n",
      "23296                   0                   0                   0         7  \n",
      "12420                   0                   0                   0         8  \n",
      "\n",
      "[5 rows x 128 columns]\n"
     ]
    }
   ],
   "source": [
    "data_train, data_test = train_test_split(data, test_size=0.2)\n",
    "print(data_train.head())"
   ]
  }
 ],
 "metadata": {
  "kernelspec": {
   "display_name": "Python 3.8.10 ('env_dsalgo')",
   "language": "python",
   "name": "python3"
  },
  "language_info": {
   "codemirror_mode": {
    "name": "ipython",
    "version": 3
   },
   "file_extension": ".py",
   "mimetype": "text/x-python",
   "name": "python",
   "nbconvert_exporter": "python",
   "pygments_lexer": "ipython3",
   "version": "3.8.10"
  },
  "orig_nbformat": 4,
  "vscode": {
   "interpreter": {
    "hash": "01c14519b4974e9683bf796b0f04b445c3210d47f2a006233f6cff14adf5564b"
   }
  }
 },
 "nbformat": 4,
 "nbformat_minor": 2
}
