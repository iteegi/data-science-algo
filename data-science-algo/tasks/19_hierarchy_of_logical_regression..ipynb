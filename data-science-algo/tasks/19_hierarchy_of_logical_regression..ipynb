{
 "cells": [
  {
   "cell_type": "markdown",
   "metadata": {},
   "source": [
    "# Иерархия логистической регрессии"
   ]
  },
  {
   "cell_type": "markdown",
   "metadata": {},
   "source": [
    "Построить 4 модели логистической регрессии:\n",
    "1. для 8, 6 и остальных классов\n",
    "2. для 2, 5 и остальных классов\n",
    "3. для 1, 7 и остальных классов\n",
    "4. для 3 и 4 -по убыванию частоты значения"
   ]
  },
  {
   "cell_type": "markdown",
   "metadata": {},
   "source": [
    "Использовать перекрестную проверку при принятии решения об оптимальном наборе столбцов"
   ]
  },
  {
   "cell_type": "markdown",
   "metadata": {},
   "source": [
    "Проверить предсказание через каппа-метрику."
   ]
  },
  {
   "cell_type": "markdown",
   "metadata": {},
   "source": [
    "## Подключить библиотеки"
   ]
  },
  {
   "cell_type": "code",
   "execution_count": 6,
   "metadata": {},
   "outputs": [],
   "source": [
    "import pandas as pd\n",
    "import numpy as np\n",
    "\n",
    "from sklearn.model_selection import train_test_split, GridSearchCV, cross_val_score\n",
    "from sklearn.metrics import cohen_kappa_score, confusion_matrix, make_scorer\n",
    "from sklearn.linear_model import LinearRegression\n",
    "from sklearn import preprocessing\n",
    "\n",
    "from core.reduce_mem_usage import reduce_mem_usage"
   ]
  },
  {
   "cell_type": "markdown",
   "metadata": {},
   "source": [
    "## Загрузка данных"
   ]
  },
  {
   "cell_type": "code",
   "execution_count": 2,
   "metadata": {},
   "outputs": [
    {
     "name": "stdout",
     "output_type": "stream",
     "text": [
      "<class 'pandas.core.frame.DataFrame'>\n",
      "RangeIndex: 59381 entries, 0 to 59380\n",
      "Columns: 128 entries, Id to Response\n",
      "dtypes: float64(18), int64(109), object(1)\n",
      "memory usage: 58.0+ MB\n",
      "None\n"
     ]
    }
   ],
   "source": [
    "data = pd.read_csv(\"../data/prudential/train.csv.gz\")\n",
    "print(data.info())"
   ]
  },
  {
   "cell_type": "markdown",
   "metadata": {},
   "source": [
    "## Предобработка данных"
   ]
  },
  {
   "cell_type": "code",
   "execution_count": 3,
   "metadata": {},
   "outputs": [],
   "source": [
    "data[\"Product_Info_2_1\"] = data[\"Product_Info_2\"].str.slice(0, 1)\n",
    "data[\"Product_Info_2_2\"] = pd.to_numeric(data[\"Product_Info_2\"].str.slice(1, 2))\n",
    "data.drop(labels=[\"Product_Info_2\"], axis=1, inplace=True)"
   ]
  },
  {
   "cell_type": "code",
   "execution_count": 4,
   "metadata": {},
   "outputs": [],
   "source": [
    "list_df = [data]\n",
    "for un in data[\"Product_Info_2_1\"].unique():\n",
    "    s = pd.DataFrame()\n",
    "    s[\"Product_Info_2_1_\" + un] = data[\"Product_Info_2_1\"].isin([un]).astype(\"int8\")\n",
    "    list_df.append(s)\n",
    "data = pd.concat(list_df, axis=1)\n",
    "data.drop(labels=[\"Product_Info_2_1\"], axis=1, inplace=True)"
   ]
  },
  {
   "cell_type": "code",
   "execution_count": 5,
   "metadata": {},
   "outputs": [
    {
     "name": "stdout",
     "output_type": "stream",
     "text": [
      "   Id  Product_Info_1  Product_Info_3  Product_Info_4  Product_Info_5  \\\n",
      "0   2               1              10        0.076923               2   \n",
      "1   5               1              26        0.076923               2   \n",
      "2   6               1              26        0.076923               2   \n",
      "3   7               1              10        0.487179               2   \n",
      "4   8               1              26        0.230769               2   \n",
      "\n",
      "   Product_Info_6  Product_Info_7   Ins_Age        Ht        Wt  ...  \\\n",
      "0               1               1  0.641791  0.581818  0.148536  ...   \n",
      "1               3               1  0.059701  0.600000  0.131799  ...   \n",
      "2               3               1  0.029851  0.745455  0.288703  ...   \n",
      "3               3               1  0.164179  0.672727  0.205021  ...   \n",
      "4               3               1  0.417910  0.654545  0.234310  ...   \n",
      "\n",
      "   Medical_Keyword_46  Medical_Keyword_47  Medical_Keyword_48  Response  \\\n",
      "0                   0                   0                   0         8   \n",
      "1                   0                   0                   0         4   \n",
      "2                   0                   0                   0         8   \n",
      "3                   0                   0                   0         8   \n",
      "4                   0                   0                   0         8   \n",
      "\n",
      "   Product_Info_2_2  Product_Info_2_1_D  Product_Info_2_1_A  \\\n",
      "0                 3                   1                   0   \n",
      "1                 1                   0                   1   \n",
      "2                 1                   0                   0   \n",
      "3                 4                   1                   0   \n",
      "4                 2                   1                   0   \n",
      "\n",
      "   Product_Info_2_1_E  Product_Info_2_1_C  Product_Info_2_1_B  \n",
      "0                   0                   0                   0  \n",
      "1                   0                   0                   0  \n",
      "2                   1                   0                   0  \n",
      "3                   0                   0                   0  \n",
      "4                   0                   0                   0  \n",
      "\n",
      "[5 rows x 133 columns]\n"
     ]
    }
   ],
   "source": [
    "data.fillna(value=-1, inplace=True)\n",
    "print(data.head())"
   ]
  },
  {
   "cell_type": "markdown",
   "metadata": {},
   "source": [
    "## Оптимизировать память"
   ]
  },
  {
   "cell_type": "code",
   "execution_count": 7,
   "metadata": {},
   "outputs": [
    {
     "name": "stdout",
     "output_type": "stream",
     "text": [
      "Потребление памяти меньше на - 49.49 Мб (минус 84.9%)\n",
      "<class 'pandas.core.frame.DataFrame'>\n",
      "RangeIndex: 59381 entries, 0 to 59380\n",
      "Columns: 133 entries, Id to Product_Info_2_1_B\n",
      "dtypes: float16(18), int16(1), int32(1), int8(113)\n",
      "memory usage: 8.8 MB\n",
      "None\n"
     ]
    }
   ],
   "source": [
    "data = reduce_mem_usage(data)\n",
    "print(data.info())"
   ]
  },
  {
   "cell_type": "markdown",
   "metadata": {},
   "source": [
    "## Набор столбцов для расчета"
   ]
  },
  {
   "cell_type": "code",
   "execution_count": 8,
   "metadata": {},
   "outputs": [
    {
     "name": "stdout",
     "output_type": "stream",
     "text": [
      "['Wt', 'Ht', 'Ins_Age', 'BMI', 'Insurance_History_1', 'Insurance_History_2', 'Insurance_History_3', 'Insurance_History_4', 'Insurance_History_5', 'Insurance_History_7', 'Insurance_History_8', 'Insurance_History_9', 'InsuredInfo_1', 'InsuredInfo_2', 'InsuredInfo_3', 'InsuredInfo_4', 'InsuredInfo_5', 'InsuredInfo_6', 'InsuredInfo_7', 'Medical_Keyword_1', 'Medical_Keyword_2', 'Medical_Keyword_3', 'Medical_Keyword_4', 'Medical_Keyword_5', 'Medical_Keyword_6', 'Medical_Keyword_7', 'Medical_Keyword_8', 'Medical_Keyword_9', 'Medical_Keyword_10', 'Medical_Keyword_11', 'Medical_Keyword_12', 'Medical_Keyword_13', 'Medical_Keyword_14', 'Medical_Keyword_15', 'Medical_Keyword_16', 'Medical_Keyword_17', 'Medical_Keyword_18', 'Medical_Keyword_19', 'Medical_Keyword_20', 'Medical_Keyword_21', 'Medical_Keyword_22', 'Medical_Keyword_23', 'Medical_Keyword_24', 'Medical_Keyword_25', 'Medical_Keyword_26', 'Medical_Keyword_27', 'Medical_Keyword_28', 'Medical_Keyword_29', 'Medical_Keyword_30', 'Medical_Keyword_31', 'Medical_Keyword_32', 'Medical_Keyword_33', 'Medical_Keyword_34', 'Medical_Keyword_35', 'Medical_Keyword_36', 'Medical_Keyword_37', 'Medical_Keyword_38', 'Medical_Keyword_39', 'Medical_Keyword_40', 'Medical_Keyword_41', 'Medical_Keyword_42', 'Medical_Keyword_43', 'Medical_Keyword_44', 'Medical_Keyword_45', 'Medical_Keyword_46', 'Medical_Keyword_47', 'Medical_Keyword_48', 'Family_Hist_1', 'Family_Hist_2', 'Family_Hist_3', 'Family_Hist_4', 'Family_Hist_5', 'Medical_History_1', 'Medical_History_2', 'Medical_History_3', 'Medical_History_4', 'Medical_History_5', 'Medical_History_6', 'Medical_History_7', 'Medical_History_8', 'Medical_History_9', 'Medical_History_10', 'Medical_History_11', 'Medical_History_12', 'Medical_History_13', 'Medical_History_14', 'Medical_History_15', 'Medical_History_16', 'Medical_History_17', 'Medical_History_18', 'Medical_History_19', 'Medical_History_20', 'Medical_History_21', 'Medical_History_22', 'Medical_History_23', 'Medical_History_24', 'Medical_History_25', 'Medical_History_26', 'Medical_History_27', 'Medical_History_28', 'Medical_History_29', 'Medical_History_30', 'Medical_History_31', 'Medical_History_32', 'Medical_History_33', 'Medical_History_34', 'Medical_History_35', 'Medical_History_36', 'Medical_History_37', 'Medical_History_38', 'Medical_History_39', 'Medical_History_40', 'Medical_History_41', 'Product_Info_1', 'Product_Info_3', 'Product_Info_4', 'Product_Info_5', 'Product_Info_6', 'Product_Info_7', 'Product_Info_2_2', 'Product_Info_2_1_D', 'Product_Info_2_1_A', 'Product_Info_2_1_E', 'Product_Info_2_1_C', 'Product_Info_2_1_B']\n"
     ]
    }
   ],
   "source": [
    "columns_groups = [\n",
    "    \"Insurance_History\",\n",
    "    \"InsuredInfo\",\n",
    "    \"Medical_Keyword\",\n",
    "    \"Family_Hist\",\n",
    "    \"Medical_History\",\n",
    "    \"Product_Info\",\n",
    "]\n",
    "columns = [\n",
    "    \"Wt\",\n",
    "    \"Ht\",\n",
    "    \"Ins_Age\",\n",
    "    \"BMI\",\n",
    "]\n",
    "\n",
    "for cg in columns_groups:\n",
    "    columns.extend(data.columns[data.columns.str.startswith(cg)])\n",
    "print(columns)"
   ]
  },
  {
   "cell_type": "markdown",
   "metadata": {},
   "source": [
    "## Предобработка данных"
   ]
  },
  {
   "cell_type": "code",
   "execution_count": 9,
   "metadata": {},
   "outputs": [],
   "source": [
    "scaler = preprocessing.StandardScaler()\n",
    "data_transformed = pd.DataFrame(scaler.fit_transform(pd.DataFrame(data, columns=columns)))\n",
    "columns_transformed = data_transformed.columns\n",
    "data_transformed[\"Response\"] = data[\"Response\"]"
   ]
  },
  {
   "cell_type": "markdown",
   "metadata": {},
   "source": [
    "## Разделение данных"
   ]
  },
  {
   "cell_type": "code",
   "execution_count": 10,
   "metadata": {},
   "outputs": [
    {
     "name": "stdout",
     "output_type": "stream",
     "text": [
      "              0         1         2         3         4         5         6  \\\n",
      "32453  0.591026  0.022862  1.197031  0.757348  0.611857 -0.169414  0.862391   \n",
      "26973  0.144079 -1.200817  0.289513  1.112931  0.611857 -0.169414  0.862391   \n",
      "27127 -0.324804 -0.707398  1.122746  0.078144  0.611857 -0.169414  0.862391   \n",
      "24192 -0.324804 -2.181076  1.350554  1.232790  0.611857 -0.169414  0.862391   \n",
      "38885 -1.100792 -1.937656  1.197031 -0.229495  0.611857 -0.169414  0.862391   \n",
      "\n",
      "              7         8         9  ...       116       117       118  \\\n",
      "32453 -1.013721  0.862242 -0.928723  ... -0.083689  0.441621 -0.149284   \n",
      "26973 -1.013721  0.861233 -0.928723  ... -0.083689  0.441621 -0.149284   \n",
      "27127 -1.013721  0.863031 -0.928723  ... -0.083689  0.441621 -0.149284   \n",
      "24192 -1.013721  0.861233 -0.928723  ... -0.083689  0.441621 -0.149284   \n",
      "38885 -1.013721  0.861004 -0.928723  ... -0.083689  0.441621 -0.149284   \n",
      "\n",
      "            119       120       121       122       123       124  Response  \n",
      "32453  2.134117 -1.331832  1.604350 -0.216001 -0.128866 -0.142142         6  \n",
      "26973  2.134117 -1.331832  1.604350 -0.216001 -0.128866 -0.142142         5  \n",
      "27127 -0.666860 -1.331832  1.604350 -0.216001 -0.128866 -0.142142         6  \n",
      "24192 -0.666860  0.750845 -0.623305 -0.216001 -0.128866 -0.142142         7  \n",
      "38885 -1.133690  0.750845 -0.623305 -0.216001 -0.128866 -0.142142         2  \n",
      "\n",
      "[5 rows x 126 columns]\n"
     ]
    }
   ],
   "source": [
    "data_train, data_test = train_test_split(data_transformed, test_size=0.2)\n",
    "print(data_train.head())"
   ]
  }
 ],
 "metadata": {
  "kernelspec": {
   "display_name": "Python 3.8.10 ('env_dsalgo')",
   "language": "python",
   "name": "python3"
  },
  "language_info": {
   "codemirror_mode": {
    "name": "ipython",
    "version": 3
   },
   "file_extension": ".py",
   "mimetype": "text/x-python",
   "name": "python",
   "nbconvert_exporter": "python",
   "pygments_lexer": "ipython3",
   "version": "3.8.10"
  },
  "orig_nbformat": 4,
  "vscode": {
   "interpreter": {
    "hash": "01c14519b4974e9683bf796b0f04b445c3210d47f2a006233f6cff14adf5564b"
   }
  }
 },
 "nbformat": 4,
 "nbformat_minor": 2
}
