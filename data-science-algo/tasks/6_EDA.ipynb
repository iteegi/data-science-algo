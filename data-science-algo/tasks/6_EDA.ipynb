{
 "cells": [
  {
   "cell_type": "markdown",
   "metadata": {},
   "source": [
    "# EDA\n",
    "Проверить взаимосвязи между параметрами измерений, найти потенциальные особенности для построения модели."
   ]
  },
  {
   "cell_type": "code",
   "execution_count": 1,
   "metadata": {},
   "outputs": [],
   "source": [
    "%matplotlib inline\n",
    "import pandas as pd\n",
    "import numpy as np\n",
    "import seaborn as sns\n",
    "import matplotlib.pyplot as plt\n",
    "from scipy.interpolate import interp1d\n",
    "from matplotlib.pyplot import rcParams\n",
    "\n",
    "rcParams['figure.figsize'] = 16, 8"
   ]
  },
  {
   "cell_type": "code",
   "execution_count": 2,
   "metadata": {},
   "outputs": [],
   "source": [
    "buildings = pd.read_csv(\"../data/buildings.csv\")\n",
    "weather = pd.read_csv(\"../data/weather.csv\")\n",
    "energy = pd.read_csv(\"../data/train.0.csv\")"
   ]
  },
  {
   "cell_type": "markdown",
   "metadata": {},
   "source": [
    "## Оптимизация памяти"
   ]
  },
  {
   "cell_type": "code",
   "execution_count": 3,
   "metadata": {},
   "outputs": [],
   "source": [
    "def reduce_mem_usage(df: pd.DataFrame):\n",
    "    start_mem = df.memory_usage().sum()/1024**2\n",
    "    for col in df.columns:\n",
    "        col_type = df[col].dtypes\n",
    "        \n",
    "        if str(col_type)[:5] == \"float\":\n",
    "            c_min = df[col].min()\n",
    "            c_max = df[col].max()\n",
    "            \n",
    "            if c_min > np.finfo(\"f2\").min and c_max < np.finfo(\"f2\").max:\n",
    "                df[col] = df[col].astype(np.float16)\n",
    "            elif c_min > np.finfo(\"f4\").min and c_max < np.finfo(\"f4\").max:\n",
    "                df[col] = df[col].astype(np.float32)\n",
    "            else:\n",
    "                df[col] = df[col].astype(np.float64)\n",
    "\n",
    "        elif str(col_type)[:3] == \"int\":\n",
    "            c_min = df[col].min()\n",
    "            c_max = df[col].max()\n",
    "            \n",
    "            if c_min > np.iinfo(\"i1\").min and c_max < np.iinfo(\"i1\").max:\n",
    "                df[col] = df[col].astype(np.int8)\n",
    "            elif c_min > np.iinfo(\"i2\").min and c_max < np.iinfo(\"i2\").max:\n",
    "                df[col] = df[col].astype(np.int16)\n",
    "            elif c_min > np.iinfo(\"i4\").min and c_max < np.iinfo(\"i4\").max:\n",
    "                df[col] = df[col].astype(np.int32)\n",
    "            elif c_min > np.iinfo(\"i8\").min and c_max < np.iinfo(\"i8\").max:\n",
    "                df[col] = df[col].astype(np.int64)\n",
    "            \n",
    "        elif col == \"timestamp\":\n",
    "            df[col] = pd.to_datetime(df[col])\n",
    "        \n",
    "        elif str(col_type)[:8] != \"datetime\":\n",
    "            df[col] = df[col].astype(\"category\")\n",
    "    \n",
    "    end_mem = df.memory_usage().sum() / 1024**2\n",
    "    print(f\"Потребление памяти меньше на - {round(start_mem - end_mem, 2)} Мб (минус {round(100*(start_mem - end_mem)/start_mem, 1)}%)\")\n",
    "    return df"
   ]
  },
  {
   "cell_type": "code",
   "execution_count": 4,
   "metadata": {},
   "outputs": [
    {
     "name": "stdout",
     "output_type": "stream",
     "text": [
      "Потребление памяти меньше на - 0.05 Мб (минус 73.9%)\n",
      "Потребление памяти меньше на - 6.53 Мб (минус 68.1%)\n",
      "Потребление памяти меньше на - 195.54 Мб (минус 53.1%)\n"
     ]
    }
   ],
   "source": [
    "buildings = reduce_mem_usage(buildings)\n",
    "weather = reduce_mem_usage(weather)\n",
    "energy = reduce_mem_usage(energy)"
   ]
  },
  {
   "cell_type": "markdown",
   "metadata": {},
   "source": [
    "## Объединение данных"
   ]
  },
  {
   "cell_type": "code",
   "execution_count": 5,
   "metadata": {},
   "outputs": [
    {
     "name": "stdout",
     "output_type": "stream",
     "text": [
      "   timestamp  site_id  building_id  meter  meter_reading primary_use  \\\n",
      "0 2016-01-01        0            0      0            0.0   Education   \n",
      "1 2016-01-01        0            1      0            0.0   Education   \n",
      "2 2016-01-01        0            2      0            0.0   Education   \n",
      "3 2016-01-01        0            3      0            0.0   Education   \n",
      "4 2016-01-01        0            4      0            0.0   Education   \n",
      "\n",
      "   square_feet  year_built  floor_count  air_temperature  cloud_coverage  \\\n",
      "0         7432      2008.0          NaN             25.0             6.0   \n",
      "1         2720      2004.0          NaN             25.0             6.0   \n",
      "2         5376      1991.0          NaN             25.0             6.0   \n",
      "3        23685      2002.0          NaN             25.0             6.0   \n",
      "4       116607      1975.0          NaN             25.0             6.0   \n",
      "\n",
      "   dew_temperature  precip_depth_1_hr  sea_level_pressure  wind_direction  \\\n",
      "0             20.0                NaN              1019.5             0.0   \n",
      "1             20.0                NaN              1019.5             0.0   \n",
      "2             20.0                NaN              1019.5             0.0   \n",
      "3             20.0                NaN              1019.5             0.0   \n",
      "4             20.0                NaN              1019.5             0.0   \n",
      "\n",
      "   wind_speed  \n",
      "0         0.0  \n",
      "1         0.0  \n",
      "2         0.0  \n",
      "3         0.0  \n",
      "4         0.0  \n"
     ]
    }
   ],
   "source": [
    "energy = pd.merge(\n",
    "    left=energy,\n",
    "    right=buildings,\n",
    "    how=\"left\",\n",
    "    left_on=\"building_id\",\n",
    "    right_on = \"building_id\",\n",
    ")\n",
    "\n",
    "energy = energy.set_index([\"timestamp\", \"site_id\"])\n",
    "weather = weather.set_index([\"timestamp\", \"site_id\"])\n",
    "\n",
    "energy = pd.merge(\n",
    "    left=energy,\n",
    "    right=weather,\n",
    "    how=\"left\",\n",
    "    left_index=True,\n",
    "    right_index=True,\n",
    ")\n",
    "\n",
    "energy.reset_index(inplace=True)\n",
    "print(energy.head())"
   ]
  },
  {
   "cell_type": "code",
   "execution_count": 6,
   "metadata": {},
   "outputs": [
    {
     "name": "stdout",
     "output_type": "stream",
     "text": [
      "<class 'pandas.core.frame.DataFrame'>\n",
      "RangeIndex: 12060910 entries, 0 to 12060909\n",
      "Data columns (total 16 columns):\n",
      " #   Column              Dtype         \n",
      "---  ------              -----         \n",
      " 0   timestamp           datetime64[ns]\n",
      " 1   site_id             int64         \n",
      " 2   building_id         int16         \n",
      " 3   meter               int8          \n",
      " 4   meter_reading       float32       \n",
      " 5   primary_use         category      \n",
      " 6   square_feet         int32         \n",
      " 7   year_built          float16       \n",
      " 8   floor_count         float16       \n",
      " 9   air_temperature     float16       \n",
      " 10  cloud_coverage      float16       \n",
      " 11  dew_temperature     float16       \n",
      " 12  precip_depth_1_hr   float16       \n",
      " 13  sea_level_pressure  float16       \n",
      " 14  wind_direction      float16       \n",
      " 15  wind_speed          float16       \n",
      "dtypes: category(1), datetime64[ns](1), float16(9), float32(1), int16(1), int32(1), int64(1), int8(1)\n",
      "memory usage: 529.1 MB\n",
      "None\n"
     ]
    }
   ],
   "source": [
    "print(energy.info())"
   ]
  }
 ],
 "metadata": {
  "kernelspec": {
   "display_name": "Python 3 (ipykernel)",
   "language": "python",
   "name": "python3"
  },
  "language_info": {
   "codemirror_mode": {
    "name": "ipython",
    "version": 3
   },
   "file_extension": ".py",
   "mimetype": "text/x-python",
   "name": "python",
   "nbconvert_exporter": "python",
   "pygments_lexer": "ipython3",
   "version": "3.8.10"
  },
  "vscode": {
   "interpreter": {
    "hash": "01c14519b4974e9683bf796b0f04b445c3210d47f2a006233f6cff14adf5564b"
   }
  }
 },
 "nbformat": 4,
 "nbformat_minor": 2
}
