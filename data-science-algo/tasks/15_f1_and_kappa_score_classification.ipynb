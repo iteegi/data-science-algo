{
 "cells": [
  {
   "cell_type": "markdown",
   "metadata": {},
   "source": [
    "# F1 и каппа оценка классификации"
   ]
  },
  {
   "cell_type": "markdown",
   "metadata": {},
   "source": [
    "1. Разделить выборку на обуч./пров. в соотн. 80/20\n",
    "2. Для обучения вычислить среднее значение для веса, роста, индекса массы тела и возраста - для каждого из принятых решений. Предсказать оценку скоринга по близости данных средним значениям.\n",
    "3. Проверить качество предсказаний через F1-метрику и матрицу неточностей."
   ]
  }
 ],
 "metadata": {
  "kernelspec": {
   "display_name": "Python 3.8.10 ('env_dsalgo')",
   "language": "python",
   "name": "python3"
  },
  "language_info": {
   "name": "python",
   "version": "3.8.10"
  },
  "orig_nbformat": 4,
  "vscode": {
   "interpreter": {
    "hash": "01c14519b4974e9683bf796b0f04b445c3210d47f2a006233f6cff14adf5564b"
   }
  }
 },
 "nbformat": 4,
 "nbformat_minor": 2
}
